{
 "cells": [
  {
   "cell_type": "code",
   "execution_count": 1,
   "metadata": {},
   "outputs": [],
   "source": [
    "import pandas as pd\n",
    "import psycopg2 as ps\n",
    "import seaborn as sns\n",
    "import matplotlib.pyplot as plt\n",
    "sns.set()"
   ]
  },
  {
   "cell_type": "markdown",
   "metadata": {},
   "source": [
    "# 1. Creating a PostgreSQL User/Role\n",
    "\n",
    "First create a user (eg. one named Chimp), with privileges to create databases and other users, by entering the following in a terminal/command line:\n",
    "\n",
    "```createuser \"Chimp\" --createrole --createdb -P```\n",
    "\n",
    "and assigning a password as prompted.\n",
    "\n",
    "**Note:** This could have been run right in this notebook using ```!createuser \"Chimp\" --createrole --createdb -P```, but it would've been a challenge responding to the password prompts."
   ]
  },
  {
   "cell_type": "markdown",
   "metadata": {},
   "source": [
    "# 2. Creating a Database\n",
    "\n",
    "To create a database called experiments, either:\n",
    "- type `createdb experiments` in a terminal/command line, or\n",
    "- preface the command with '!' and run it in the jupyter notebook, as shown below."
   ]
  },
  {
   "cell_type": "code",
   "execution_count": 2,
   "metadata": {},
   "outputs": [],
   "source": [
    "#Creating a database called experiments with the createdb shell command\n",
    "!createdb experiments"
   ]
  },
  {
   "cell_type": "markdown",
   "metadata": {},
   "source": [
    "# 3. Connecting to a database"
   ]
  },
  {
   "cell_type": "code",
   "execution_count": 4,
   "metadata": {
    "scrolled": true
   },
   "outputs": [],
   "source": [
    "#Logging in to database 'experiments' as user 'Chimp'\n",
    "#Ammend as necessary if using a different role\n",
    "conn=ps.connect(\"dbname=experiments user=Chimp password=chimp123 host=localhost \")\n",
    "\n",
    "#Cursor to perform database operations\n",
    "cur=conn.cursor()"
   ]
  },
  {
   "cell_type": "markdown",
   "metadata": {},
   "source": [
    "# 4. Basic Database Operations"
   ]
  },
  {
   "cell_type": "code",
   "execution_count": null,
   "metadata": {},
   "outputs": [],
   "source": [
    "#Creating a table called utf8_chars with 2 columns: code_point & character\n",
    "cur.execute(\"\"\"\n",
    "            CREATE TABLE utf8_chars ( \n",
    "                    code_point integer, \n",
    "                    character text \n",
    "                    );\n",
    "            \"\"\")\n",
    "conn.commit()"
   ]
  },
  {
   "cell_type": "code",
   "execution_count": null,
   "metadata": {},
   "outputs": [],
   "source": [
    "#Inserting values into the table\n",
    "cur.execute(\"INSERT INTO utf8_chars VALUES (1,'a'), (2, 'b'), (3,'c');\")\n",
    "conn.commit()"
   ]
  },
  {
   "cell_type": "code",
   "execution_count": null,
   "metadata": {},
   "outputs": [],
   "source": [
    "#Querying for stored data\n",
    "cur.execute('SELECT * FROM utf8_chars;')\n",
    "cur.fetchall()"
   ]
  },
  {
   "cell_type": "code",
   "execution_count": null,
   "metadata": {
    "scrolled": true
   },
   "outputs": [],
   "source": [
    "#Iterative insertion\n",
    "for x in range(33,129):\n",
    "    cur.execute(\"INSERT INTO utf8_chars VALUES (%s, %s)\",(x,chr(x)))\n",
    "    \n",
    "conn.commit()\n",
    "\n",
    "#Querying for stored data\n",
    "cur.execute('SELECT * FROM utf8_chars;')\n",
    "cur.fetchall()  "
   ]
  },
  {
   "cell_type": "code",
   "execution_count": null,
   "metadata": {
    "scrolled": true
   },
   "outputs": [],
   "source": [
    "#Conditional deletion of rows\n",
    "cur.execute('DELETE FROM utf8_chars WHERE (code_point < 48 OR code_point > 122);')\n",
    "conn.commit()\n",
    "\n",
    "cur.execute('SELECT * FROM utf8_chars;')\n",
    "cur.fetchall()"
   ]
  },
  {
   "cell_type": "markdown",
   "metadata": {},
   "source": [
    "# 5. Saving & Retrieving Data with Pandas"
   ]
  },
  {
   "cell_type": "markdown",
   "metadata": {},
   "source": [
    "## 5.1 Saving a Data-frame to the Database"
   ]
  },
  {
   "cell_type": "code",
   "execution_count": null,
   "metadata": {},
   "outputs": [],
   "source": [
    "#importing a file as a data-frame\n",
    "df=pd.read_csv('data.csv', parse_dates=[4]).fillna(0)\n",
    "df.head()"
   ]
  },
  {
   "cell_type": "code",
   "execution_count": null,
   "metadata": {},
   "outputs": [],
   "source": [
    "df.info()"
   ]
  },
  {
   "cell_type": "code",
   "execution_count": null,
   "metadata": {},
   "outputs": [],
   "source": [
    "#Creating the table to hold the data\n",
    "cur.execute(\"\"\" \n",
    "            CREATE TABLE exports (\n",
    "                    Type text,\n",
    "                    Commodity text,\n",
    "                    KGs numeric,\n",
    "                    Value money,\n",
    "                    Date timestamp\n",
    "                );\n",
    "            \"\"\")\n",
    "conn.commit()"
   ]
  },
  {
   "cell_type": "code",
   "execution_count": null,
   "metadata": {},
   "outputs": [],
   "source": [
    "#Populating the table\n",
    "for x in range(len(df)):\n",
    "    cur.execute('INSERT INTO exports VALUES (%s,%s,%s,%s,%s);',\n",
    "               tuple(df.iloc[x])) #create a tuple of each row's vales\n",
    "conn.commit()"
   ]
  },
  {
   "cell_type": "markdown",
   "metadata": {},
   "source": [
    "## 5.2 Retrieving stored data"
   ]
  },
  {
   "cell_type": "code",
   "execution_count": null,
   "metadata": {},
   "outputs": [],
   "source": [
    "#Fetching column names\n",
    "cur.execute(\"\"\"SELECT column_name FROM information_schema.columns\n",
    "                    WHERE table_name='exports';\n",
    "            \"\"\")\n",
    "cols=cur.fetchall()\n",
    "cols"
   ]
  },
  {
   "cell_type": "code",
   "execution_count": null,
   "metadata": {},
   "outputs": [],
   "source": [
    "cols=[i[0].title() for i in cols]\n",
    "cols"
   ]
  },
  {
   "cell_type": "code",
   "execution_count": null,
   "metadata": {},
   "outputs": [],
   "source": [
    "cur.execute('SELECT * FROM exports;')\n",
    "stored_data=cur.fetchall()\n",
    "pd.DataFrame(stored_data, columns=cols)"
   ]
  },
  {
   "cell_type": "code",
   "execution_count": null,
   "metadata": {},
   "outputs": [],
   "source": [
    "#Removing rows with zero export amount\n",
    "cur.execute('DELETE FROM exports where kgs<=0.0;')\n",
    "\n",
    "#evaluating 'price_per_kg'\n",
    "cur.execute('SELECT commodity,kgs,value,(value/kgs) AS price_per_kg FROM exports ORDER BY price_per_kg DESC;')\n",
    "pd.DataFrame(cur.fetchall(), columns=['commodity','kgs','value','price_per_kg'])"
   ]
  },
  {
   "cell_type": "code",
   "execution_count": null,
   "metadata": {},
   "outputs": [],
   "source": [
    "#Getting types of commodities\n",
    "cur.execute('SELECT DISTINCT type FROM exports;')\n",
    "cur.fetchall()"
   ]
  },
  {
   "cell_type": "code",
   "execution_count": null,
   "metadata": {
    "scrolled": true
   },
   "outputs": [],
   "source": [
    "#Getting names of vegetables exported\n",
    "cur.execute('SELECT DISTINCT commodity FROM exports WHERE type=\\'Vegetables\\';')\n",
    "cur.fetchall()"
   ]
  },
  {
   "cell_type": "code",
   "execution_count": null,
   "metadata": {},
   "outputs": [],
   "source": [
    "#Getting some aggegates\n",
    "cur.execute('SELECT commodity,sum(kgs),max(kgs), round(avg(kgs), 4),sum(value) FROM exports GROUP BY commodity;')\n",
    "pd.DataFrame(cur.fetchall(), columns=['commodity','total_mass(kg)','largest_shipment(kg)','average_mass','total_value']).sort_values(by='largest_shipment(kg)', ascending=False)"
   ]
  },
  {
   "cell_type": "code",
   "execution_count": null,
   "metadata": {},
   "outputs": [],
   "source": [
    "conn.commit()"
   ]
  },
  {
   "cell_type": "markdown",
   "metadata": {},
   "source": [
    "## 5.3 Basic Data Wrangling"
   ]
  },
  {
   "cell_type": "code",
   "execution_count": null,
   "metadata": {
    "scrolled": true
   },
   "outputs": [],
   "source": [
    "cur.execute('SELECT * FROM exports;')\n",
    "df2=pd.DataFrame(cur.fetchall(), columns=cols)\n",
    "df2.info()"
   ]
  },
  {
   "cell_type": "code",
   "execution_count": null,
   "metadata": {},
   "outputs": [],
   "source": [
    "#Restoring 'Kgs' column to numeric data type\n",
    "df2.Kgs=[float(x) for x in df2.Kgs]\n",
    "\n",
    "#Removing currency label and commas, then restoring 'Value' column to numeric data type\n",
    "df2.Value=[float(x.strip('Ksh').replace(',','')) for x in df2.Value]\n",
    "\n",
    "df2.info()"
   ]
  },
  {
   "cell_type": "code",
   "execution_count": null,
   "metadata": {},
   "outputs": [],
   "source": [
    "df2.head()"
   ]
  },
  {
   "cell_type": "markdown",
   "metadata": {},
   "source": [
    "## 5.4 Basic Visual Analysis"
   ]
  },
  {
   "cell_type": "code",
   "execution_count": null,
   "metadata": {
    "scrolled": false
   },
   "outputs": [],
   "source": [
    "#Monthly Revenue From Exports\n",
    "plt.figure(figsize=(10,6))\n",
    "import calendar\n",
    "sns.barplot(x=df2.Date.dt.month_name(), y=df2.Value/(10**6), hue=df2.Type, ci=None, order=[calendar.month_name[x] for x in range(1,13) ])\n",
    "plt.xticks(rotation=90)\n",
    "plt.ylabel('Total value (millions)')\n",
    "plt.title('Monthly Revenue From Exports',fontsize=28,fontweight=550, pad=20)\n",
    "\n",
    "#Monthly Volume of Exports\n",
    "plt.figure(figsize=(10,6))\n",
    "sns.barplot(x=df2.Date.dt.month_name(), y=df2.Kgs/(1000),hue=df2.Type, ci=None, order=[calendar.month_name[x] for x in range(1,13) ])\n",
    "plt.xticks(rotation=90)\n",
    "plt.ylabel('Total Mass (tonnes)')\n",
    "plt.title('Monthly Volume of Exports',fontsize=28,fontweight=550, pad=20)\n",
    "\n",
    "#Most Sold Commodities - By Value\n",
    "totals=df2[['Commodity','Value','Kgs']].groupby('Commodity').agg('sum')\n",
    "plt.figure(figsize=(10,6))\n",
    "(totals.Value.sort_values(ascending=False).nlargest(20)/(10**6)).plot(kind='bar')\n",
    "plt.xticks(rotation=90)\n",
    "plt.ylabel('Total revenue (millions)')\n",
    "plt.title('Most Sold Commodities - By Value',fontsize=28,fontweight=550, pad=20)\n",
    "\n",
    "\n",
    "#Most Sold Commodities - By Mass\n",
    "plt.figure(figsize=(10,6))\n",
    "(totals.Kgs.sort_values(ascending=False).nlargest(20)/(1000)).plot(kind='bar')\n",
    "plt.xticks(rotation=90)\n",
    "plt.ylabel('Total mass (tonnes)')\n",
    "plt.title('Most Sold Commodities - By Mass',fontsize=28,fontweight=550, pad=20)\n",
    "\n",
    "#Most Sold Commodities - By Frequency\n",
    "plt.figure(figsize=(10,6))\n",
    "df2.Commodity.value_counts().nlargest(40).plot(kind='bar')\n",
    "plt.xticks(rotation=90)\n",
    "plt.title('Most Sold Commodities - By Frequency',fontsize=28,fontweight=550, pad=20)"
   ]
  },
  {
   "cell_type": "markdown",
   "metadata": {},
   "source": [
    "# 6. Creating Other Users"
   ]
  },
  {
   "cell_type": "code",
   "execution_count": null,
   "metadata": {},
   "outputs": [],
   "source": [
    "#Creating user Owl who can create databases and other users\n",
    "cur.execute('CREATE USER \"Owl\" CREATEROLE CREATEDB PASSWORD \\'owl123\\';')\n",
    "\n",
    "#Creating user Gorilla who can only create databases\n",
    "cur.execute('CREATE USER \"Gorilla\" CREATEDB;')\n",
    "\n",
    "conn.commit()"
   ]
  },
  {
   "cell_type": "code",
   "execution_count": null,
   "metadata": {},
   "outputs": [],
   "source": [
    "#Checking if the users were created\n",
    "cur.execute('GRANT \"Gorilla\",\"Owl\" to \"Chimp\";') # assigning the roles to Chimp\n",
    "cur.execute(\"SELECT role_name FROM information_schema.enabled_roles;\")\n",
    "cur.fetchall()"
   ]
  },
  {
   "cell_type": "markdown",
   "metadata": {},
   "source": [
    "# 7. Deleting Created Objects & Users"
   ]
  },
  {
   "cell_type": "code",
   "execution_count": null,
   "metadata": {},
   "outputs": [],
   "source": [
    "#Deleting created tables\n",
    "cur.execute('DROP TABLE utf8_chars;')\n",
    "cur.execute('DROP TABLE exports;')\n",
    "conn.commit()"
   ]
  },
  {
   "cell_type": "code",
   "execution_count": null,
   "metadata": {},
   "outputs": [],
   "source": [
    "#Removing created users\n",
    "cur.execute('DROP ROLE \"Owl\"')\n",
    "cur.execute('DROP ROLE \"Gorilla\"')\n",
    "conn.commit()"
   ]
  },
  {
   "cell_type": "code",
   "execution_count": null,
   "metadata": {},
   "outputs": [],
   "source": [
    "#Removing everything owned by Chimp\n",
    "cur.execute('DROP OWNED BY \"Chimp\";')\n",
    "conn.commit()"
   ]
  },
  {
   "cell_type": "code",
   "execution_count": null,
   "metadata": {},
   "outputs": [],
   "source": [
    "#Closing connection to database\n",
    "cur.close()\n",
    "conn.close()"
   ]
  },
  {
   "cell_type": "code",
   "execution_count": null,
   "metadata": {},
   "outputs": [],
   "source": [
    "#Deleting database 'experiments'\n",
    "!dropdb experiments"
   ]
  },
  {
   "cell_type": "code",
   "execution_count": null,
   "metadata": {},
   "outputs": [],
   "source": [
    "#Deleting user Chimp\n",
    "!dropuser 'Chimp'"
   ]
  }
 ],
 "metadata": {
  "kernelspec": {
   "display_name": "Python 3",
   "language": "python",
   "name": "python3"
  },
  "language_info": {
   "codemirror_mode": {
    "name": "ipython",
    "version": 3
   },
   "file_extension": ".py",
   "mimetype": "text/x-python",
   "name": "python",
   "nbconvert_exporter": "python",
   "pygments_lexer": "ipython3",
   "version": "3.6.9"
  }
 },
 "nbformat": 4,
 "nbformat_minor": 2
}
