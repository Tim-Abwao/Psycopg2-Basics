{
 "cells": [
  {
   "cell_type": "code",
   "execution_count": 1,
   "metadata": {},
   "outputs": [],
   "source": [
    "import pandas as pd\n",
    "import psycopg2 as ps\n",
    "import seaborn as sns\n",
    "import matplotlib.pyplot as plt\n",
    "sns.set()"
   ]
  },
  {
   "cell_type": "markdown",
   "metadata": {},
   "source": [
    "# 1. Creating a PostgreSQL User/Role\n",
    "\n",
    "First create a user (eg. one named Chimp), with privileges to create databases and other users, by entering the following in a terminal/command line:\n",
    "\n",
    "```createuser \"Chimp\" --createrole --createdb -P```\n",
    "\n",
    "and assigning a password as prompted.\n",
    "\n",
    "**Note:** This could have been run right in this notebook using ```!createuser \"Chimp\" --createrole --createdb -P```, but it would've been a challenge responding to the password prompts."
   ]
  },
  {
   "cell_type": "markdown",
   "metadata": {},
   "source": [
    "# 2. Creating a Database\n",
    "\n",
    "To create a database called experiments, either:\n",
    "- type `createdb experiments` in a terminal/command line, or\n",
    "- preface the command with '!' and run it in the jupyter notebook, as shown below."
   ]
  },
  {
   "cell_type": "code",
   "execution_count": 2,
   "metadata": {},
   "outputs": [
    {
     "name": "stdout",
     "output_type": "stream",
     "text": [
      "createdb: database creation failed: ERROR:  database \"experiments\" already exists\r\n"
     ]
    }
   ],
   "source": [
    "#Creating a database called experiments with the createdb shell command\n",
    "!createdb experiments"
   ]
  },
  {
   "cell_type": "markdown",
   "metadata": {},
   "source": [
    "# 3. Connecting to a database"
   ]
  },
  {
   "cell_type": "code",
   "execution_count": 3,
   "metadata": {
    "scrolled": true
   },
   "outputs": [],
   "source": [
    "#Logging in to database 'experiments' as user 'Chimp'\n",
    "#Ammend as necessary if using a different role\n",
    "conn=ps.connect(\"dbname=experiments user=Chimp password=chimp123 host=localhost \")\n",
    "\n",
    "#Cursor to perform database operations\n",
    "cur=conn.cursor()"
   ]
  },
  {
   "cell_type": "markdown",
   "metadata": {},
   "source": [
    "# 4. Basic Database Operations"
   ]
  },
  {
   "cell_type": "code",
   "execution_count": 4,
   "metadata": {},
   "outputs": [],
   "source": [
    "#Creating a table called utf8_chars with 2 columns: code_point & character\n",
    "cur.execute(\"\"\"\n",
    "            CREATE TABLE utf8_chars ( \n",
    "                    code_point integer, \n",
    "                    character text \n",
    "                    );\n",
    "            \"\"\")\n",
    "conn.commit()"
   ]
  },
  {
   "cell_type": "code",
   "execution_count": 5,
   "metadata": {},
   "outputs": [],
   "source": [
    "#Inserting values into the table\n",
    "cur.execute(\"INSERT INTO utf8_chars VALUES (1,'a'), (2, 'b'), (3,'c');\")\n",
    "conn.commit()"
   ]
  },
  {
   "cell_type": "code",
   "execution_count": 6,
   "metadata": {},
   "outputs": [
    {
     "data": {
      "text/plain": [
       "[(1, 'a'), (2, 'b'), (3, 'c')]"
      ]
     },
     "execution_count": 6,
     "metadata": {},
     "output_type": "execute_result"
    }
   ],
   "source": [
    "#Querying for stored data\n",
    "cur.execute('SELECT * FROM utf8_chars;')\n",
    "cur.fetchall()"
   ]
  },
  {
   "cell_type": "code",
   "execution_count": 7,
   "metadata": {
    "scrolled": true
   },
   "outputs": [
    {
     "data": {
      "text/plain": [
       "[(1, 'a'),\n",
       " (2, 'b'),\n",
       " (3, 'c'),\n",
       " (33, '!'),\n",
       " (34, '\"'),\n",
       " (35, '#'),\n",
       " (36, '$'),\n",
       " (37, '%'),\n",
       " (38, '&'),\n",
       " (39, \"'\"),\n",
       " (40, '('),\n",
       " (41, ')'),\n",
       " (42, '*'),\n",
       " (43, '+'),\n",
       " (44, ','),\n",
       " (45, '-'),\n",
       " (46, '.'),\n",
       " (47, '/'),\n",
       " (48, '0'),\n",
       " (49, '1'),\n",
       " (50, '2'),\n",
       " (51, '3'),\n",
       " (52, '4'),\n",
       " (53, '5'),\n",
       " (54, '6'),\n",
       " (55, '7'),\n",
       " (56, '8'),\n",
       " (57, '9'),\n",
       " (58, ':'),\n",
       " (59, ';'),\n",
       " (60, '<'),\n",
       " (61, '='),\n",
       " (62, '>'),\n",
       " (63, '?'),\n",
       " (64, '@'),\n",
       " (65, 'A'),\n",
       " (66, 'B'),\n",
       " (67, 'C'),\n",
       " (68, 'D'),\n",
       " (69, 'E'),\n",
       " (70, 'F'),\n",
       " (71, 'G'),\n",
       " (72, 'H'),\n",
       " (73, 'I'),\n",
       " (74, 'J'),\n",
       " (75, 'K'),\n",
       " (76, 'L'),\n",
       " (77, 'M'),\n",
       " (78, 'N'),\n",
       " (79, 'O'),\n",
       " (80, 'P'),\n",
       " (81, 'Q'),\n",
       " (82, 'R'),\n",
       " (83, 'S'),\n",
       " (84, 'T'),\n",
       " (85, 'U'),\n",
       " (86, 'V'),\n",
       " (87, 'W'),\n",
       " (88, 'X'),\n",
       " (89, 'Y'),\n",
       " (90, 'Z'),\n",
       " (91, '['),\n",
       " (92, '\\\\'),\n",
       " (93, ']'),\n",
       " (94, '^'),\n",
       " (95, '_'),\n",
       " (96, '`'),\n",
       " (97, 'a'),\n",
       " (98, 'b'),\n",
       " (99, 'c'),\n",
       " (100, 'd'),\n",
       " (101, 'e'),\n",
       " (102, 'f'),\n",
       " (103, 'g'),\n",
       " (104, 'h'),\n",
       " (105, 'i'),\n",
       " (106, 'j'),\n",
       " (107, 'k'),\n",
       " (108, 'l'),\n",
       " (109, 'm'),\n",
       " (110, 'n'),\n",
       " (111, 'o'),\n",
       " (112, 'p'),\n",
       " (113, 'q'),\n",
       " (114, 'r'),\n",
       " (115, 's'),\n",
       " (116, 't'),\n",
       " (117, 'u'),\n",
       " (118, 'v'),\n",
       " (119, 'w'),\n",
       " (120, 'x'),\n",
       " (121, 'y'),\n",
       " (122, 'z'),\n",
       " (123, '{'),\n",
       " (124, '|'),\n",
       " (125, '}'),\n",
       " (126, '~'),\n",
       " (127, '\\x7f'),\n",
       " (128, '\\x80')]"
      ]
     },
     "execution_count": 7,
     "metadata": {},
     "output_type": "execute_result"
    }
   ],
   "source": [
    "#Iterative insertion\n",
    "for x in range(33,129):\n",
    "    cur.execute(\"INSERT INTO utf8_chars VALUES (%s, %s)\",(x,chr(x)))\n",
    "    \n",
    "conn.commit()\n",
    "\n",
    "#Querying for stored data\n",
    "cur.execute('SELECT * FROM utf8_chars;')\n",
    "cur.fetchall()  "
   ]
  },
  {
   "cell_type": "code",
   "execution_count": 8,
   "metadata": {
    "scrolled": true
   },
   "outputs": [
    {
     "data": {
      "text/plain": [
       "[(48, '0'),\n",
       " (49, '1'),\n",
       " (50, '2'),\n",
       " (51, '3'),\n",
       " (52, '4'),\n",
       " (53, '5'),\n",
       " (54, '6'),\n",
       " (55, '7'),\n",
       " (56, '8'),\n",
       " (57, '9'),\n",
       " (58, ':'),\n",
       " (59, ';'),\n",
       " (60, '<'),\n",
       " (61, '='),\n",
       " (62, '>'),\n",
       " (63, '?'),\n",
       " (64, '@'),\n",
       " (65, 'A'),\n",
       " (66, 'B'),\n",
       " (67, 'C'),\n",
       " (68, 'D'),\n",
       " (69, 'E'),\n",
       " (70, 'F'),\n",
       " (71, 'G'),\n",
       " (72, 'H'),\n",
       " (73, 'I'),\n",
       " (74, 'J'),\n",
       " (75, 'K'),\n",
       " (76, 'L'),\n",
       " (77, 'M'),\n",
       " (78, 'N'),\n",
       " (79, 'O'),\n",
       " (80, 'P'),\n",
       " (81, 'Q'),\n",
       " (82, 'R'),\n",
       " (83, 'S'),\n",
       " (84, 'T'),\n",
       " (85, 'U'),\n",
       " (86, 'V'),\n",
       " (87, 'W'),\n",
       " (88, 'X'),\n",
       " (89, 'Y'),\n",
       " (90, 'Z'),\n",
       " (91, '['),\n",
       " (92, '\\\\'),\n",
       " (93, ']'),\n",
       " (94, '^'),\n",
       " (95, '_'),\n",
       " (96, '`'),\n",
       " (97, 'a'),\n",
       " (98, 'b'),\n",
       " (99, 'c'),\n",
       " (100, 'd'),\n",
       " (101, 'e'),\n",
       " (102, 'f'),\n",
       " (103, 'g'),\n",
       " (104, 'h'),\n",
       " (105, 'i'),\n",
       " (106, 'j'),\n",
       " (107, 'k'),\n",
       " (108, 'l'),\n",
       " (109, 'm'),\n",
       " (110, 'n'),\n",
       " (111, 'o'),\n",
       " (112, 'p'),\n",
       " (113, 'q'),\n",
       " (114, 'r'),\n",
       " (115, 's'),\n",
       " (116, 't'),\n",
       " (117, 'u'),\n",
       " (118, 'v'),\n",
       " (119, 'w'),\n",
       " (120, 'x'),\n",
       " (121, 'y'),\n",
       " (122, 'z')]"
      ]
     },
     "execution_count": 8,
     "metadata": {},
     "output_type": "execute_result"
    }
   ],
   "source": [
    "#Conditional deletion of rows\n",
    "cur.execute('DELETE FROM utf8_chars WHERE (code_point < 48 OR code_point > 122);')\n",
    "conn.commit()\n",
    "\n",
    "cur.execute('SELECT * FROM utf8_chars;')\n",
    "cur.fetchall()"
   ]
  },
  {
   "cell_type": "markdown",
   "metadata": {},
   "source": [
    "# 5. Saving & Retrieving Data with Pandas"
   ]
  },
  {
   "cell_type": "markdown",
   "metadata": {},
   "source": [
    "## 5.1 Saving a Data-frame to the Database"
   ]
  },
  {
   "cell_type": "code",
   "execution_count": 9,
   "metadata": {},
   "outputs": [
    {
     "data": {
      "text/html": [
       "<div>\n",
       "<style scoped>\n",
       "    .dataframe tbody tr th:only-of-type {\n",
       "        vertical-align: middle;\n",
       "    }\n",
       "\n",
       "    .dataframe tbody tr th {\n",
       "        vertical-align: top;\n",
       "    }\n",
       "\n",
       "    .dataframe thead th {\n",
       "        text-align: right;\n",
       "    }\n",
       "</style>\n",
       "<table border=\"1\" class=\"dataframe\">\n",
       "  <thead>\n",
       "    <tr style=\"text-align: right;\">\n",
       "      <th></th>\n",
       "      <th>Type</th>\n",
       "      <th>Commodity</th>\n",
       "      <th>KGs</th>\n",
       "      <th>Value_of_Goods_Exported</th>\n",
       "      <th>Date</th>\n",
       "    </tr>\n",
       "  </thead>\n",
       "  <tbody>\n",
       "    <tr>\n",
       "      <td>0</td>\n",
       "      <td>Cut-flowers</td>\n",
       "      <td>Anthurium leaves</td>\n",
       "      <td>3769.74</td>\n",
       "      <td>1707653.0</td>\n",
       "      <td>2015-01-25</td>\n",
       "    </tr>\n",
       "    <tr>\n",
       "      <td>1</td>\n",
       "      <td>Cut-flowers</td>\n",
       "      <td>Cut foliage</td>\n",
       "      <td>9040.37</td>\n",
       "      <td>4476063.0</td>\n",
       "      <td>2015-01-25</td>\n",
       "    </tr>\n",
       "    <tr>\n",
       "      <td>2</td>\n",
       "      <td>Cut-flowers</td>\n",
       "      <td>Fillers</td>\n",
       "      <td>58.00</td>\n",
       "      <td>18938.0</td>\n",
       "      <td>2015-01-25</td>\n",
       "    </tr>\n",
       "    <tr>\n",
       "      <td>3</td>\n",
       "      <td>Cut-flowers</td>\n",
       "      <td>Leather leaves/fern</td>\n",
       "      <td>309.72</td>\n",
       "      <td>121856.0</td>\n",
       "      <td>2015-01-25</td>\n",
       "    </tr>\n",
       "    <tr>\n",
       "      <td>4</td>\n",
       "      <td>Cut-flowers</td>\n",
       "      <td>Ranunculus</td>\n",
       "      <td>104.00</td>\n",
       "      <td>34827.0</td>\n",
       "      <td>2015-01-25</td>\n",
       "    </tr>\n",
       "  </tbody>\n",
       "</table>\n",
       "</div>"
      ],
      "text/plain": [
       "          Type            Commodity      KGs  Value_of_Goods_Exported  \\\n",
       "0  Cut-flowers     Anthurium leaves  3769.74                1707653.0   \n",
       "1  Cut-flowers          Cut foliage  9040.37                4476063.0   \n",
       "2  Cut-flowers              Fillers    58.00                  18938.0   \n",
       "3  Cut-flowers  Leather leaves/fern   309.72                 121856.0   \n",
       "4  Cut-flowers           Ranunculus   104.00                  34827.0   \n",
       "\n",
       "        Date  \n",
       "0 2015-01-25  \n",
       "1 2015-01-25  \n",
       "2 2015-01-25  \n",
       "3 2015-01-25  \n",
       "4 2015-01-25  "
      ]
     },
     "execution_count": 9,
     "metadata": {},
     "output_type": "execute_result"
    }
   ],
   "source": [
    "#importing a file as a data-frame\n",
    "df=pd.read_csv('data.csv', parse_dates=[4]).fillna(0)\n",
    "df.head()"
   ]
  },
  {
   "cell_type": "code",
   "execution_count": 10,
   "metadata": {},
   "outputs": [
    {
     "name": "stdout",
     "output_type": "stream",
     "text": [
      "<class 'pandas.core.frame.DataFrame'>\n",
      "RangeIndex: 1800 entries, 0 to 1799\n",
      "Data columns (total 5 columns):\n",
      "Type                       1800 non-null object\n",
      "Commodity                  1800 non-null object\n",
      "KGs                        1800 non-null float64\n",
      "Value_of_Goods_Exported    1800 non-null float64\n",
      "Date                       1800 non-null datetime64[ns]\n",
      "dtypes: datetime64[ns](1), float64(2), object(2)\n",
      "memory usage: 70.4+ KB\n"
     ]
    }
   ],
   "source": [
    "df.info()"
   ]
  },
  {
   "cell_type": "code",
   "execution_count": 11,
   "metadata": {},
   "outputs": [],
   "source": [
    "#Creating the table to hold the data\n",
    "cur.execute(\"\"\" \n",
    "            CREATE TABLE exports (\n",
    "                    Type text,\n",
    "                    Commodity text,\n",
    "                    KGs numeric,\n",
    "                    Value money,\n",
    "                    Date timestamp\n",
    "                );\n",
    "            \"\"\")\n",
    "conn.commit()"
   ]
  },
  {
   "cell_type": "code",
   "execution_count": 12,
   "metadata": {},
   "outputs": [],
   "source": [
    "#Populating the table\n",
    "for x in range(len(df)):\n",
    "    cur.execute('INSERT INTO exports VALUES (%s,%s,%s,%s,%s);',\n",
    "               tuple(df.iloc[x])) #create a tuple of each row's vales\n",
    "conn.commit()"
   ]
  },
  {
   "cell_type": "markdown",
   "metadata": {},
   "source": [
    "## 5.2 Retrieving stored data"
   ]
  },
  {
   "cell_type": "code",
   "execution_count": 13,
   "metadata": {},
   "outputs": [
    {
     "data": {
      "text/plain": [
       "[('type',), ('commodity',), ('kgs',), ('value',), ('date',)]"
      ]
     },
     "execution_count": 13,
     "metadata": {},
     "output_type": "execute_result"
    }
   ],
   "source": [
    "#Fetching column names\n",
    "cur.execute(\"\"\"SELECT column_name FROM information_schema.columns\n",
    "                    WHERE table_name='exports';\n",
    "            \"\"\")\n",
    "cols=cur.fetchall()\n",
    "cols"
   ]
  },
  {
   "cell_type": "code",
   "execution_count": 14,
   "metadata": {},
   "outputs": [
    {
     "data": {
      "text/plain": [
       "['Type', 'Commodity', 'Kgs', 'Value', 'Date']"
      ]
     },
     "execution_count": 14,
     "metadata": {},
     "output_type": "execute_result"
    }
   ],
   "source": [
    "cols=[i[0].title() for i in cols]\n",
    "cols"
   ]
  },
  {
   "cell_type": "code",
   "execution_count": 15,
   "metadata": {},
   "outputs": [
    {
     "data": {
      "text/html": [
       "<div>\n",
       "<style scoped>\n",
       "    .dataframe tbody tr th:only-of-type {\n",
       "        vertical-align: middle;\n",
       "    }\n",
       "\n",
       "    .dataframe tbody tr th {\n",
       "        vertical-align: top;\n",
       "    }\n",
       "\n",
       "    .dataframe thead th {\n",
       "        text-align: right;\n",
       "    }\n",
       "</style>\n",
       "<table border=\"1\" class=\"dataframe\">\n",
       "  <thead>\n",
       "    <tr style=\"text-align: right;\">\n",
       "      <th></th>\n",
       "      <th>Type</th>\n",
       "      <th>Commodity</th>\n",
       "      <th>Kgs</th>\n",
       "      <th>Value</th>\n",
       "      <th>Date</th>\n",
       "    </tr>\n",
       "  </thead>\n",
       "  <tbody>\n",
       "    <tr>\n",
       "      <td>0</td>\n",
       "      <td>Cut-flowers</td>\n",
       "      <td>Anthurium leaves</td>\n",
       "      <td>3769.74</td>\n",
       "      <td>Ksh1,707,653.00</td>\n",
       "      <td>2015-01-25</td>\n",
       "    </tr>\n",
       "    <tr>\n",
       "      <td>1</td>\n",
       "      <td>Cut-flowers</td>\n",
       "      <td>Cut foliage</td>\n",
       "      <td>9040.37</td>\n",
       "      <td>Ksh4,476,063.00</td>\n",
       "      <td>2015-01-25</td>\n",
       "    </tr>\n",
       "    <tr>\n",
       "      <td>2</td>\n",
       "      <td>Cut-flowers</td>\n",
       "      <td>Fillers</td>\n",
       "      <td>58.0</td>\n",
       "      <td>Ksh18,938.00</td>\n",
       "      <td>2015-01-25</td>\n",
       "    </tr>\n",
       "    <tr>\n",
       "      <td>3</td>\n",
       "      <td>Cut-flowers</td>\n",
       "      <td>Leather leaves/fern</td>\n",
       "      <td>309.72</td>\n",
       "      <td>Ksh121,856.00</td>\n",
       "      <td>2015-01-25</td>\n",
       "    </tr>\n",
       "    <tr>\n",
       "      <td>4</td>\n",
       "      <td>Cut-flowers</td>\n",
       "      <td>Ranunculus</td>\n",
       "      <td>104.0</td>\n",
       "      <td>Ksh34,827.00</td>\n",
       "      <td>2015-01-25</td>\n",
       "    </tr>\n",
       "    <tr>\n",
       "      <td>...</td>\n",
       "      <td>...</td>\n",
       "      <td>...</td>\n",
       "      <td>...</td>\n",
       "      <td>...</td>\n",
       "      <td>...</td>\n",
       "    </tr>\n",
       "    <tr>\n",
       "      <td>1795</td>\n",
       "      <td>Vegetables</td>\n",
       "      <td>Turnips</td>\n",
       "      <td>63.0</td>\n",
       "      <td>Ksh42,647.00</td>\n",
       "      <td>2015-12-25</td>\n",
       "    </tr>\n",
       "    <tr>\n",
       "      <td>1796</td>\n",
       "      <td>Vegetables</td>\n",
       "      <td>Valore</td>\n",
       "      <td>0.0</td>\n",
       "      <td>Ksh0.00</td>\n",
       "      <td>2015-12-25</td>\n",
       "    </tr>\n",
       "    <tr>\n",
       "      <td>1797</td>\n",
       "      <td>Vegetables</td>\n",
       "      <td>Bean processed</td>\n",
       "      <td>770650.88</td>\n",
       "      <td>Ksh115,660,099.00</td>\n",
       "      <td>2015-12-25</td>\n",
       "    </tr>\n",
       "    <tr>\n",
       "      <td>1798</td>\n",
       "      <td>Vegetables</td>\n",
       "      <td>Snow/mangetout</td>\n",
       "      <td>260.0</td>\n",
       "      <td>Ksh125,520.00</td>\n",
       "      <td>2015-12-25</td>\n",
       "    </tr>\n",
       "    <tr>\n",
       "      <td>1799</td>\n",
       "      <td>Vegetables</td>\n",
       "      <td>Herbs</td>\n",
       "      <td>122201.63</td>\n",
       "      <td>Ksh77,814,477.00</td>\n",
       "      <td>2015-12-25</td>\n",
       "    </tr>\n",
       "  </tbody>\n",
       "</table>\n",
       "<p>1800 rows × 5 columns</p>\n",
       "</div>"
      ],
      "text/plain": [
       "             Type            Commodity        Kgs              Value  \\\n",
       "0     Cut-flowers     Anthurium leaves    3769.74    Ksh1,707,653.00   \n",
       "1     Cut-flowers          Cut foliage    9040.37    Ksh4,476,063.00   \n",
       "2     Cut-flowers              Fillers       58.0       Ksh18,938.00   \n",
       "3     Cut-flowers  Leather leaves/fern     309.72      Ksh121,856.00   \n",
       "4     Cut-flowers           Ranunculus      104.0       Ksh34,827.00   \n",
       "...           ...                  ...        ...                ...   \n",
       "1795   Vegetables              Turnips       63.0       Ksh42,647.00   \n",
       "1796   Vegetables               Valore        0.0            Ksh0.00   \n",
       "1797   Vegetables       Bean processed  770650.88  Ksh115,660,099.00   \n",
       "1798   Vegetables       Snow/mangetout      260.0      Ksh125,520.00   \n",
       "1799   Vegetables                Herbs  122201.63   Ksh77,814,477.00   \n",
       "\n",
       "           Date  \n",
       "0    2015-01-25  \n",
       "1    2015-01-25  \n",
       "2    2015-01-25  \n",
       "3    2015-01-25  \n",
       "4    2015-01-25  \n",
       "...         ...  \n",
       "1795 2015-12-25  \n",
       "1796 2015-12-25  \n",
       "1797 2015-12-25  \n",
       "1798 2015-12-25  \n",
       "1799 2015-12-25  \n",
       "\n",
       "[1800 rows x 5 columns]"
      ]
     },
     "execution_count": 15,
     "metadata": {},
     "output_type": "execute_result"
    }
   ],
   "source": [
    "cur.execute('SELECT * FROM exports;')\n",
    "stored_data=cur.fetchall()\n",
    "pd.DataFrame(stored_data, columns=cols)"
   ]
  },
  {
   "cell_type": "code",
   "execution_count": 16,
   "metadata": {},
   "outputs": [
    {
     "data": {
      "text/html": [
       "<div>\n",
       "<style scoped>\n",
       "    .dataframe tbody tr th:only-of-type {\n",
       "        vertical-align: middle;\n",
       "    }\n",
       "\n",
       "    .dataframe tbody tr th {\n",
       "        vertical-align: top;\n",
       "    }\n",
       "\n",
       "    .dataframe thead th {\n",
       "        text-align: right;\n",
       "    }\n",
       "</style>\n",
       "<table border=\"1\" class=\"dataframe\">\n",
       "  <thead>\n",
       "    <tr style=\"text-align: right;\">\n",
       "      <th></th>\n",
       "      <th>commodity</th>\n",
       "      <th>kgs</th>\n",
       "      <th>value</th>\n",
       "      <th>price_per_kg</th>\n",
       "    </tr>\n",
       "  </thead>\n",
       "  <tbody>\n",
       "    <tr>\n",
       "      <td>0</td>\n",
       "      <td>Geranium cuttings</td>\n",
       "      <td>609.0</td>\n",
       "      <td>Ksh1,291,615,579.00</td>\n",
       "      <td>Ksh2,120,879.44</td>\n",
       "    </tr>\n",
       "    <tr>\n",
       "      <td>1</td>\n",
       "      <td>Asters</td>\n",
       "      <td>3.0</td>\n",
       "      <td>Ksh408,938.00</td>\n",
       "      <td>Ksh136,312.67</td>\n",
       "    </tr>\n",
       "    <tr>\n",
       "      <td>2</td>\n",
       "      <td>Geranium cuttings</td>\n",
       "      <td>3045.0</td>\n",
       "      <td>Ksh265,013,924.00</td>\n",
       "      <td>Ksh87,032.49</td>\n",
       "    </tr>\n",
       "    <tr>\n",
       "      <td>3</td>\n",
       "      <td>Phlox</td>\n",
       "      <td>1910.57</td>\n",
       "      <td>Ksh153,927,591.00</td>\n",
       "      <td>Ksh80,566.32</td>\n",
       "    </tr>\n",
       "    <tr>\n",
       "      <td>4</td>\n",
       "      <td>Geranium cuttings</td>\n",
       "      <td>4206.74</td>\n",
       "      <td>Ksh313,812,245.00</td>\n",
       "      <td>Ksh74,597.49</td>\n",
       "    </tr>\n",
       "    <tr>\n",
       "      <td>...</td>\n",
       "      <td>...</td>\n",
       "      <td>...</td>\n",
       "      <td>...</td>\n",
       "      <td>...</td>\n",
       "    </tr>\n",
       "    <tr>\n",
       "      <td>1333</td>\n",
       "      <td>Butter nuts</td>\n",
       "      <td>15.0</td>\n",
       "      <td>Ksh32.00</td>\n",
       "      <td>Ksh2.13</td>\n",
       "    </tr>\n",
       "    <tr>\n",
       "      <td>1334</td>\n",
       "      <td>Strawberry</td>\n",
       "      <td>2.0</td>\n",
       "      <td>Ksh0.00</td>\n",
       "      <td>Ksh0.00</td>\n",
       "    </tr>\n",
       "    <tr>\n",
       "      <td>1335</td>\n",
       "      <td>Carthamus</td>\n",
       "      <td>175.29</td>\n",
       "      <td>Ksh0.00</td>\n",
       "      <td>Ksh0.00</td>\n",
       "    </tr>\n",
       "    <tr>\n",
       "      <td>1336</td>\n",
       "      <td>Carthamus</td>\n",
       "      <td>9.04</td>\n",
       "      <td>Ksh0.00</td>\n",
       "      <td>Ksh0.00</td>\n",
       "    </tr>\n",
       "    <tr>\n",
       "      <td>1337</td>\n",
       "      <td>Lisianthus/eustoma</td>\n",
       "      <td>37.91</td>\n",
       "      <td>Ksh0.00</td>\n",
       "      <td>Ksh0.00</td>\n",
       "    </tr>\n",
       "  </tbody>\n",
       "</table>\n",
       "<p>1338 rows × 4 columns</p>\n",
       "</div>"
      ],
      "text/plain": [
       "               commodity      kgs                value     price_per_kg\n",
       "0      Geranium cuttings    609.0  Ksh1,291,615,579.00  Ksh2,120,879.44\n",
       "1                 Asters      3.0        Ksh408,938.00    Ksh136,312.67\n",
       "2      Geranium cuttings   3045.0    Ksh265,013,924.00     Ksh87,032.49\n",
       "3                  Phlox  1910.57    Ksh153,927,591.00     Ksh80,566.32\n",
       "4      Geranium cuttings  4206.74    Ksh313,812,245.00     Ksh74,597.49\n",
       "...                  ...      ...                  ...              ...\n",
       "1333         Butter nuts     15.0             Ksh32.00          Ksh2.13\n",
       "1334          Strawberry      2.0              Ksh0.00          Ksh0.00\n",
       "1335           Carthamus   175.29              Ksh0.00          Ksh0.00\n",
       "1336           Carthamus     9.04              Ksh0.00          Ksh0.00\n",
       "1337  Lisianthus/eustoma    37.91              Ksh0.00          Ksh0.00\n",
       "\n",
       "[1338 rows x 4 columns]"
      ]
     },
     "execution_count": 16,
     "metadata": {},
     "output_type": "execute_result"
    }
   ],
   "source": [
    "#Removing rows with zero export amount\n",
    "cur.execute('DELETE FROM exports where kgs<=0.0;')\n",
    "\n",
    "#evaluating 'price_per_kg'\n",
    "cur.execute('SELECT commodity,kgs,value,(value/kgs) AS price_per_kg FROM exports ORDER BY price_per_kg DESC;')\n",
    "pd.DataFrame(cur.fetchall(), columns=['commodity','kgs','value','price_per_kg'])"
   ]
  },
  {
   "cell_type": "code",
   "execution_count": 17,
   "metadata": {},
   "outputs": [
    {
     "data": {
      "text/plain": [
       "[('Fruits',), ('Cut-flowers',), ('Vegetables',)]"
      ]
     },
     "execution_count": 17,
     "metadata": {},
     "output_type": "execute_result"
    }
   ],
   "source": [
    "#Getting types of commodities\n",
    "cur.execute('SELECT DISTINCT type FROM exports;')\n",
    "cur.fetchall()"
   ]
  },
  {
   "cell_type": "code",
   "execution_count": 18,
   "metadata": {
    "scrolled": true
   },
   "outputs": [
    {
     "data": {
      "text/plain": [
       "[('Aloe vera',),\n",
       " ('Amaranthus leaves',),\n",
       " ('Arrow roots(nduma)',),\n",
       " ('Asparagus',),\n",
       " ('Aubergines',),\n",
       " ('Baby corn',),\n",
       " ('Basil',),\n",
       " ('Bean processed',),\n",
       " ('Beetroot',),\n",
       " ('Broccoli',),\n",
       " ('Butter nuts',),\n",
       " ('Cabbage',),\n",
       " ('Carrots',),\n",
       " ('Celery',),\n",
       " ('Chillies',),\n",
       " ('Chillies dried',),\n",
       " ('Chives',),\n",
       " ('Coriander/dhania',),\n",
       " ('Courgettes/zucchine',),\n",
       " ('Cucumber',),\n",
       " ('Curry leaves/limdi',),\n",
       " ('Dill',),\n",
       " ('Dudhi',),\n",
       " ('Fine beans',),\n",
       " ('Garden peas',),\n",
       " ('Green maize',),\n",
       " ('Gunda',),\n",
       " ('Herbs',),\n",
       " ('Karella',),\n",
       " ('Leeks',),\n",
       " ('Matoke',),\n",
       " ('Melissa',),\n",
       " ('Mixed vegetables',),\n",
       " ('Okra',),\n",
       " ('Onions',),\n",
       " ('Parsley',),\n",
       " ('Patra/arrow root leaves',),\n",
       " ('Pepper mint',),\n",
       " ('Pumpkin',),\n",
       " ('Rhubarb',),\n",
       " ('Rosemary',),\n",
       " ('Runner beans',),\n",
       " ('Serenade',),\n",
       " ('Snap peas',),\n",
       " ('Snow/mangetout',),\n",
       " ('Spinach/palak',),\n",
       " ('Sugar cane',),\n",
       " ('Sweet potatoes',),\n",
       " ('Tarragon',),\n",
       " ('Thyme',),\n",
       " ('Tindori/ivy guard',),\n",
       " ('Tomato',),\n",
       " ('Turia',),\n",
       " ('Turnips',),\n",
       " ('Valore',)]"
      ]
     },
     "execution_count": 18,
     "metadata": {},
     "output_type": "execute_result"
    }
   ],
   "source": [
    "#Getting names of vegetables exported\n",
    "cur.execute('SELECT DISTINCT commodity FROM exports WHERE type=\\'Vegetables\\';')\n",
    "cur.fetchall()"
   ]
  },
  {
   "cell_type": "code",
   "execution_count": 19,
   "metadata": {},
   "outputs": [
    {
     "data": {
      "text/html": [
       "<div>\n",
       "<style scoped>\n",
       "    .dataframe tbody tr th:only-of-type {\n",
       "        vertical-align: middle;\n",
       "    }\n",
       "\n",
       "    .dataframe tbody tr th {\n",
       "        vertical-align: top;\n",
       "    }\n",
       "\n",
       "    .dataframe thead th {\n",
       "        text-align: right;\n",
       "    }\n",
       "</style>\n",
       "<table border=\"1\" class=\"dataframe\">\n",
       "  <thead>\n",
       "    <tr style=\"text-align: right;\">\n",
       "      <th></th>\n",
       "      <th>commodity</th>\n",
       "      <th>total_mass(kg)</th>\n",
       "      <th>largest_shipment(kg)</th>\n",
       "      <th>average_mass</th>\n",
       "      <th>total_value</th>\n",
       "    </tr>\n",
       "  </thead>\n",
       "  <tbody>\n",
       "    <tr>\n",
       "      <td>72</td>\n",
       "      <td>Roses</td>\n",
       "      <td>105164149.83</td>\n",
       "      <td>11049185.48</td>\n",
       "      <td>8763679.1525</td>\n",
       "      <td>Ksh44,205,855,724.00</td>\n",
       "    </tr>\n",
       "    <tr>\n",
       "      <td>118</td>\n",
       "      <td>Avocado</td>\n",
       "      <td>31225859.63</td>\n",
       "      <td>5302741.82</td>\n",
       "      <td>2602154.9692</td>\n",
       "      <td>Ksh4,278,199,690.00</td>\n",
       "    </tr>\n",
       "    <tr>\n",
       "      <td>98</td>\n",
       "      <td>Mango</td>\n",
       "      <td>14047648.26</td>\n",
       "      <td>4655128.34</td>\n",
       "      <td>1170637.3550</td>\n",
       "      <td>Ksh1,612,449,629.00</td>\n",
       "    </tr>\n",
       "    <tr>\n",
       "      <td>101</td>\n",
       "      <td>Mixed vegetables</td>\n",
       "      <td>28129937.97</td>\n",
       "      <td>3565356.17</td>\n",
       "      <td>2344161.4975</td>\n",
       "      <td>Ksh9,122,920,193.00</td>\n",
       "    </tr>\n",
       "    <tr>\n",
       "      <td>50</td>\n",
       "      <td>Fine beans</td>\n",
       "      <td>23090599.07</td>\n",
       "      <td>3003347.17</td>\n",
       "      <td>1924216.5892</td>\n",
       "      <td>Ksh7,109,839,896.00</td>\n",
       "    </tr>\n",
       "    <tr>\n",
       "      <td>...</td>\n",
       "      <td>...</td>\n",
       "      <td>...</td>\n",
       "      <td>...</td>\n",
       "      <td>...</td>\n",
       "      <td>...</td>\n",
       "    </tr>\n",
       "    <tr>\n",
       "      <td>26</td>\n",
       "      <td>Dried carnations</td>\n",
       "      <td>6.96</td>\n",
       "      <td>6.96</td>\n",
       "      <td>6.9600</td>\n",
       "      <td>Ksh5,181.00</td>\n",
       "    </tr>\n",
       "    <tr>\n",
       "      <td>78</td>\n",
       "      <td>Melissa</td>\n",
       "      <td>6.0</td>\n",
       "      <td>6.0</td>\n",
       "      <td>6.0000</td>\n",
       "      <td>Ksh2,724.00</td>\n",
       "    </tr>\n",
       "    <tr>\n",
       "      <td>94</td>\n",
       "      <td>Celery</td>\n",
       "      <td>5.0</td>\n",
       "      <td>5.0</td>\n",
       "      <td>5.0000</td>\n",
       "      <td>Ksh30.00</td>\n",
       "    </tr>\n",
       "    <tr>\n",
       "      <td>121</td>\n",
       "      <td>Gerbera</td>\n",
       "      <td>1.70</td>\n",
       "      <td>1.23</td>\n",
       "      <td>0.8500</td>\n",
       "      <td>Ksh369.00</td>\n",
       "    </tr>\n",
       "    <tr>\n",
       "      <td>35</td>\n",
       "      <td>Callistaphus</td>\n",
       "      <td>1.16</td>\n",
       "      <td>1.16</td>\n",
       "      <td>1.1600</td>\n",
       "      <td>Ksh590.00</td>\n",
       "    </tr>\n",
       "  </tbody>\n",
       "</table>\n",
       "<p>148 rows × 5 columns</p>\n",
       "</div>"
      ],
      "text/plain": [
       "            commodity total_mass(kg) largest_shipment(kg)  average_mass  \\\n",
       "72              Roses   105164149.83          11049185.48  8763679.1525   \n",
       "118           Avocado    31225859.63           5302741.82  2602154.9692   \n",
       "98              Mango    14047648.26           4655128.34  1170637.3550   \n",
       "101  Mixed vegetables    28129937.97           3565356.17  2344161.4975   \n",
       "50         Fine beans    23090599.07           3003347.17  1924216.5892   \n",
       "..                ...            ...                  ...           ...   \n",
       "26   Dried carnations           6.96                 6.96        6.9600   \n",
       "78            Melissa            6.0                  6.0        6.0000   \n",
       "94             Celery            5.0                  5.0        5.0000   \n",
       "121           Gerbera           1.70                 1.23        0.8500   \n",
       "35       Callistaphus           1.16                 1.16        1.1600   \n",
       "\n",
       "              total_value  \n",
       "72   Ksh44,205,855,724.00  \n",
       "118   Ksh4,278,199,690.00  \n",
       "98    Ksh1,612,449,629.00  \n",
       "101   Ksh9,122,920,193.00  \n",
       "50    Ksh7,109,839,896.00  \n",
       "..                    ...  \n",
       "26            Ksh5,181.00  \n",
       "78            Ksh2,724.00  \n",
       "94               Ksh30.00  \n",
       "121             Ksh369.00  \n",
       "35              Ksh590.00  \n",
       "\n",
       "[148 rows x 5 columns]"
      ]
     },
     "execution_count": 19,
     "metadata": {},
     "output_type": "execute_result"
    }
   ],
   "source": [
    "#Getting some aggegates\n",
    "cur.execute('SELECT commodity,sum(kgs),max(kgs), round(avg(kgs), 4),sum(value) FROM exports GROUP BY commodity;')\n",
    "pd.DataFrame(cur.fetchall(), columns=['commodity','total_mass(kg)','largest_shipment(kg)','average_mass','total_value']).sort_values(by='largest_shipment(kg)', ascending=False)"
   ]
  },
  {
   "cell_type": "code",
   "execution_count": 20,
   "metadata": {},
   "outputs": [],
   "source": [
    "conn.commit()"
   ]
  },
  {
   "cell_type": "markdown",
   "metadata": {},
   "source": [
    "## 5.3 Basic Data Wrangling"
   ]
  },
  {
   "cell_type": "code",
   "execution_count": 21,
   "metadata": {
    "scrolled": true
   },
   "outputs": [
    {
     "name": "stdout",
     "output_type": "stream",
     "text": [
      "<class 'pandas.core.frame.DataFrame'>\n",
      "RangeIndex: 1338 entries, 0 to 1337\n",
      "Data columns (total 5 columns):\n",
      "Type         1338 non-null object\n",
      "Commodity    1338 non-null object\n",
      "Kgs          1338 non-null object\n",
      "Value        1338 non-null object\n",
      "Date         1338 non-null datetime64[ns]\n",
      "dtypes: datetime64[ns](1), object(4)\n",
      "memory usage: 52.4+ KB\n"
     ]
    }
   ],
   "source": [
    "cur.execute('SELECT * FROM exports;')\n",
    "df2=pd.DataFrame(cur.fetchall(), columns=cols)\n",
    "df2.info()"
   ]
  },
  {
   "cell_type": "code",
   "execution_count": 22,
   "metadata": {},
   "outputs": [
    {
     "name": "stdout",
     "output_type": "stream",
     "text": [
      "<class 'pandas.core.frame.DataFrame'>\n",
      "RangeIndex: 1338 entries, 0 to 1337\n",
      "Data columns (total 5 columns):\n",
      "Type         1338 non-null object\n",
      "Commodity    1338 non-null object\n",
      "Kgs          1338 non-null float64\n",
      "Value        1338 non-null float64\n",
      "Date         1338 non-null datetime64[ns]\n",
      "dtypes: datetime64[ns](1), float64(2), object(2)\n",
      "memory usage: 52.4+ KB\n"
     ]
    }
   ],
   "source": [
    "#Restoring 'Kgs' column to numeric data type\n",
    "df2.Kgs=[float(x) for x in df2.Kgs]\n",
    "\n",
    "#Removing currency label and commas, then restoring 'Value' column to numeric data type\n",
    "df2.Value=[float(x.strip('Ksh').replace(',','')) for x in df2.Value]\n",
    "\n",
    "df2.info()"
   ]
  },
  {
   "cell_type": "code",
   "execution_count": 23,
   "metadata": {},
   "outputs": [
    {
     "data": {
      "text/html": [
       "<div>\n",
       "<style scoped>\n",
       "    .dataframe tbody tr th:only-of-type {\n",
       "        vertical-align: middle;\n",
       "    }\n",
       "\n",
       "    .dataframe tbody tr th {\n",
       "        vertical-align: top;\n",
       "    }\n",
       "\n",
       "    .dataframe thead th {\n",
       "        text-align: right;\n",
       "    }\n",
       "</style>\n",
       "<table border=\"1\" class=\"dataframe\">\n",
       "  <thead>\n",
       "    <tr style=\"text-align: right;\">\n",
       "      <th></th>\n",
       "      <th>Type</th>\n",
       "      <th>Commodity</th>\n",
       "      <th>Kgs</th>\n",
       "      <th>Value</th>\n",
       "      <th>Date</th>\n",
       "    </tr>\n",
       "  </thead>\n",
       "  <tbody>\n",
       "    <tr>\n",
       "      <td>0</td>\n",
       "      <td>Cut-flowers</td>\n",
       "      <td>Anthurium leaves</td>\n",
       "      <td>3769.74</td>\n",
       "      <td>1707653.0</td>\n",
       "      <td>2015-01-25</td>\n",
       "    </tr>\n",
       "    <tr>\n",
       "      <td>1</td>\n",
       "      <td>Cut-flowers</td>\n",
       "      <td>Cut foliage</td>\n",
       "      <td>9040.37</td>\n",
       "      <td>4476063.0</td>\n",
       "      <td>2015-01-25</td>\n",
       "    </tr>\n",
       "    <tr>\n",
       "      <td>2</td>\n",
       "      <td>Cut-flowers</td>\n",
       "      <td>Fillers</td>\n",
       "      <td>58.00</td>\n",
       "      <td>18938.0</td>\n",
       "      <td>2015-01-25</td>\n",
       "    </tr>\n",
       "    <tr>\n",
       "      <td>3</td>\n",
       "      <td>Cut-flowers</td>\n",
       "      <td>Leather leaves/fern</td>\n",
       "      <td>309.72</td>\n",
       "      <td>121856.0</td>\n",
       "      <td>2015-01-25</td>\n",
       "    </tr>\n",
       "    <tr>\n",
       "      <td>4</td>\n",
       "      <td>Cut-flowers</td>\n",
       "      <td>Ranunculus</td>\n",
       "      <td>104.00</td>\n",
       "      <td>34827.0</td>\n",
       "      <td>2015-01-25</td>\n",
       "    </tr>\n",
       "  </tbody>\n",
       "</table>\n",
       "</div>"
      ],
      "text/plain": [
       "          Type            Commodity      Kgs      Value       Date\n",
       "0  Cut-flowers     Anthurium leaves  3769.74  1707653.0 2015-01-25\n",
       "1  Cut-flowers          Cut foliage  9040.37  4476063.0 2015-01-25\n",
       "2  Cut-flowers              Fillers    58.00    18938.0 2015-01-25\n",
       "3  Cut-flowers  Leather leaves/fern   309.72   121856.0 2015-01-25\n",
       "4  Cut-flowers           Ranunculus   104.00    34827.0 2015-01-25"
      ]
     },
     "execution_count": 23,
     "metadata": {},
     "output_type": "execute_result"
    }
   ],
   "source": [
    "df2.head()"
   ]
  },
  {
   "cell_type": "markdown",
   "metadata": {},
   "source": [
    "## 5.4 Basic Visual Analysis"
   ]
  },
  {
   "cell_type": "code",
   "execution_count": 24,
   "metadata": {
    "scrolled": false
   },
   "outputs": [
    {
     "data": {
      "text/plain": [
       "Text(0.5, 1.0, 'Most Sold Commodities - By Frequency')"
      ]
     },
     "execution_count": 24,
     "metadata": {},
     "output_type": "execute_result"
    },
    {
     "data": {
      "image/png": "[encoded data removed]",
      "text/plain": [
       "<Figure size 720x432 with 1 Axes>"
      ]
     },
     "metadata": {
      "needs_background": "light"
     },
     "output_type": "display_data"
    },
    {
     "data": {
      "image/png": "[encoded data removed]",
      "text/plain": [
       "<Figure size 720x432 with 1 Axes>"
      ]
     },
     "metadata": {
      "needs_background": "light"
     },
     "output_type": "display_data"
    },
    {
     "data": {
      "image/png": "[encoded data removed]",
      "text/plain": [
       "<Figure size 720x432 with 1 Axes>"
      ]
     },
     "metadata": {
      "needs_background": "light"
     },
     "output_type": "display_data"
    },
    {
     "data": {
      "image/png": "[encoded data removed]",
      "text/plain": [
       "<Figure size 720x432 with 1 Axes>"
      ]
     },
     "metadata": {
      "needs_background": "light"
     },
     "output_type": "display_data"
    },
    {
     "data": {
      "image/png": "[encoded data removed]",
      "text/plain": [
       "<Figure size 720x432 with 1 Axes>"
      ]
     },
     "metadata": {
      "needs_background": "light"
     },
     "output_type": "display_data"
    }
   ],
   "source": [
    "#Monthly Revenue From Exports\n",
    "plt.figure(figsize=(10,6))\n",
    "import calendar\n",
    "sns.barplot(x=df2.Date.dt.month_name(), y=df2.Value/(10**6), hue=df2.Type, ci=None, order=[calendar.month_name[x] for x in range(1,13) ])\n",
    "plt.xticks(rotation=90)\n",
    "plt.ylabel('Total value (millions)')\n",
    "plt.title('Monthly Revenue From Exports',fontsize=28,fontweight=550, pad=20)\n",
    "\n",
    "#Monthly Volume of Exports\n",
    "plt.figure(figsize=(10,6))\n",
    "sns.barplot(x=df2.Date.dt.month_name(), y=df2.Kgs/(1000),hue=df2.Type, ci=None, order=[calendar.month_name[x] for x in range(1,13) ])\n",
    "plt.xticks(rotation=90)\n",
    "plt.ylabel('Total Mass (tonnes)')\n",
    "plt.title('Monthly Volume of Exports',fontsize=28,fontweight=550, pad=20)\n",
    "\n",
    "#Most Sold Commodities - By Value\n",
    "totals=df2[['Commodity','Value','Kgs']].groupby('Commodity').agg('sum')\n",
    "plt.figure(figsize=(10,6))\n",
    "(totals.Value.sort_values(ascending=False).nlargest(20)/(10**6)).plot(kind='bar')\n",
    "plt.xticks(rotation=90)\n",
    "plt.ylabel('Total revenue (millions)')\n",
    "plt.title('Most Sold Commodities - By Value',fontsize=28,fontweight=550, pad=20)\n",
    "\n",
    "\n",
    "#Most Sold Commodities - By Mass\n",
    "plt.figure(figsize=(10,6))\n",
    "(totals.Kgs.sort_values(ascending=False).nlargest(20)/(1000)).plot(kind='bar')\n",
    "plt.xticks(rotation=90)\n",
    "plt.ylabel('Total mass (tonnes)')\n",
    "plt.title('Most Sold Commodities - By Mass',fontsize=28,fontweight=550, pad=20)\n",
    "\n",
    "#Most Sold Commodities - By Frequency\n",
    "plt.figure(figsize=(10,6))\n",
    "df2.Commodity.value_counts().nlargest(40).plot(kind='bar')\n",
    "plt.xticks(rotation=90)\n",
    "plt.title('Most Sold Commodities - By Frequency',fontsize=28,fontweight=550, pad=20)"
   ]
  },
  {
   "cell_type": "markdown",
   "metadata": {},
   "source": [
    "# 6. Creating Other Users"
   ]
  },
  {
   "cell_type": "code",
   "execution_count": 25,
   "metadata": {},
   "outputs": [],
   "source": [
    "#Creating user Owl who can create databases and other users\n",
    "cur.execute('CREATE USER \"Owl\" CREATEROLE CREATEDB PASSWORD \\'owl123\\';')\n",
    "\n",
    "#Creating user Gorilla who can only create databases\n",
    "cur.execute('CREATE USER \"Gorilla\" CREATEDB;')\n",
    "\n",
    "conn.commit()"
   ]
  },
  {
   "cell_type": "code",
   "execution_count": 26,
   "metadata": {},
   "outputs": [
    {
     "data": {
      "text/plain": [
       "[('Chimp',), ('Owl',), ('Gorilla',)]"
      ]
     },
     "execution_count": 26,
     "metadata": {},
     "output_type": "execute_result"
    }
   ],
   "source": [
    "#Checking if the users were created\n",
    "cur.execute('GRANT \"Gorilla\",\"Owl\" to \"Chimp\";') # assigning the roles to Chimp\n",
    "cur.execute(\"SELECT role_name FROM information_schema.enabled_roles;\")\n",
    "cur.fetchall()"
   ]
  },
  {
   "cell_type": "markdown",
   "metadata": {},
   "source": [
    "# 7. Deleting Created Objects & Users"
   ]
  },
  {
   "cell_type": "code",
   "execution_count": 27,
   "metadata": {},
   "outputs": [],
   "source": [
    "#Deleting created tables\n",
    "cur.execute('DROP TABLE utf8_chars;')\n",
    "cur.execute('DROP TABLE exports;')\n",
    "conn.commit()"
   ]
  },
  {
   "cell_type": "code",
   "execution_count": 28,
   "metadata": {},
   "outputs": [],
   "source": [
    "#Removing created users\n",
    "cur.execute('DROP ROLE \"Owl\"')\n",
    "cur.execute('DROP ROLE \"Gorilla\"')\n",
    "conn.commit()"
   ]
  },
  {
   "cell_type": "code",
   "execution_count": 29,
   "metadata": {},
   "outputs": [],
   "source": [
    "#Removing everything owned by Chimp\n",
    "cur.execute('DROP OWNED BY \"Chimp\";')\n",
    "conn.commit()"
   ]
  },
  {
   "cell_type": "code",
   "execution_count": 30,
   "metadata": {},
   "outputs": [],
   "source": [
    "#Closing connection to database\n",
    "cur.close()\n",
    "conn.close()"
   ]
  },
  {
   "cell_type": "code",
   "execution_count": 31,
   "metadata": {},
   "outputs": [],
   "source": [
    "#Deleting database 'experiments'\n",
    "!dropdb experiments"
   ]
  },
  {
   "cell_type": "code",
   "execution_count": 32,
   "metadata": {},
   "outputs": [],
   "source": [
    "#Deleting user Chimp\n",
    "!dropuser 'Chimp'"
   ]
  }
 ],
 "metadata": {
  "kernelspec": {
   "display_name": "Python 3",
   "language": "python",
   "name": "python3"
  },
  "language_info": {
   "codemirror_mode": {
    "name": "ipython",
    "version": 3
   },
   "file_extension": ".py",
   "mimetype": "text/x-python",
   "name": "python",
   "nbconvert_exporter": "python",
   "pygments_lexer": "ipython3",
   "version": "3.6.8"
  }
 },
 "nbformat": 4,
 "nbformat_minor": 2
}
