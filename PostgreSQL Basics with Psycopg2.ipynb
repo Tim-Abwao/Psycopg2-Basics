{
 "cells": [
  {
   "cell_type": "code",
   "execution_count": 1,
   "metadata": {},
   "outputs": [],
   "source": [
    "import pandas as pd\n",
    "import psycopg2 as ps"
   ]
  },
  {
   "cell_type": "markdown",
   "metadata": {},
   "source": [
    "# 1. Creating a User & Database - Optional\n",
    "\n",
    "If you'd like to create a `user` and `database` to work with just for this session, enter the following commands in your terminal: (Both the user and database, along with all other objects created will be removed at the end.)\n",
    "```bash\n",
    "$ createuser \"Dinosaur\" --createdb -P\n",
    "$ createdb testing_psycopg\n",
    "```"
   ]
  },
  {
   "cell_type": "markdown",
   "metadata": {},
   "source": [
    "# 2. Connecting to the Postgres Server"
   ]
  },
  {
   "cell_type": "code",
   "execution_count": 2,
   "metadata": {
    "scrolled": true
   },
   "outputs": [],
   "source": [
    "#Ammend as necessary if using a different role/user\n",
    "conn = ps.connect(\"dbname=testing_psycopg user=Dinosaur password=Dinosaur123 \\\n",
    "                   host=localhost port=5432\")\n",
    "\n",
    "#Initialising the cursor\n",
    "cur = conn.cursor()"
   ]
  },
  {
   "cell_type": "markdown",
   "metadata": {},
   "source": [
    "# 3. Basic Database Operations"
   ]
  },
  {
   "cell_type": "markdown",
   "metadata": {},
   "source": [
    "## 3.1 Creating Tables"
   ]
  },
  {
   "cell_type": "code",
   "execution_count": 3,
   "metadata": {},
   "outputs": [],
   "source": [
    "#Creating a table of UTF-8 characters\n",
    "cur.execute(\"\"\"\n",
    "            CREATE TABLE utf8_chars ( \n",
    "                    code_point integer, \n",
    "                    character text \n",
    "                    );\n",
    "            \"\"\")\n",
    "\n",
    "# Creating a table to hold sample export data\n",
    "cur.execute(\"\"\" \n",
    "            CREATE TABLE exports (\n",
    "                    Type text,\n",
    "                    Commodity text,\n",
    "                    KGs numeric,\n",
    "                    Value money,\n",
    "                    Date timestamp\n",
    "                );\n",
    "            \"\"\")"
   ]
  },
  {
   "cell_type": "markdown",
   "metadata": {},
   "source": [
    "## 3.2 Inserting Data into the Database"
   ]
  },
  {
   "cell_type": "code",
   "execution_count": 4,
   "metadata": {
    "scrolled": true
   },
   "outputs": [
    {
     "output_type": "execute_result",
     "data": {
      "text/plain": "          Type            Commodity      KGs  Value_of_Goods_Exported  \\\n0  Cut-flowers     Anthurium leaves  3769.74                1707653.0   \n1  Cut-flowers          Cut foliage  9040.37                4476063.0   \n2  Cut-flowers              Fillers    58.00                  18938.0   \n3  Cut-flowers  Leather leaves/fern   309.72                 121856.0   \n4  Cut-flowers           Ranunculus   104.00                  34827.0   \n\n                     Date  \n0  01/25/2015 12:00:00 AM  \n1  01/25/2015 12:00:00 AM  \n2  01/25/2015 12:00:00 AM  \n3  01/25/2015 12:00:00 AM  \n4  01/25/2015 12:00:00 AM  ",
      "text/html": "<div>\n<style scoped>\n    .dataframe tbody tr th:only-of-type {\n        vertical-align: middle;\n    }\n\n    .dataframe tbody tr th {\n        vertical-align: top;\n    }\n\n    .dataframe thead th {\n        text-align: right;\n    }\n</style>\n<table border=\"1\" class=\"dataframe\">\n  <thead>\n    <tr style=\"text-align: right;\">\n      <th></th>\n      <th>Type</th>\n      <th>Commodity</th>\n      <th>KGs</th>\n      <th>Value_of_Goods_Exported</th>\n      <th>Date</th>\n    </tr>\n  </thead>\n  <tbody>\n    <tr>\n      <th>0</th>\n      <td>Cut-flowers</td>\n      <td>Anthurium leaves</td>\n      <td>3769.74</td>\n      <td>1707653.0</td>\n      <td>01/25/2015 12:00:00 AM</td>\n    </tr>\n    <tr>\n      <th>1</th>\n      <td>Cut-flowers</td>\n      <td>Cut foliage</td>\n      <td>9040.37</td>\n      <td>4476063.0</td>\n      <td>01/25/2015 12:00:00 AM</td>\n    </tr>\n    <tr>\n      <th>2</th>\n      <td>Cut-flowers</td>\n      <td>Fillers</td>\n      <td>58.00</td>\n      <td>18938.0</td>\n      <td>01/25/2015 12:00:00 AM</td>\n    </tr>\n    <tr>\n      <th>3</th>\n      <td>Cut-flowers</td>\n      <td>Leather leaves/fern</td>\n      <td>309.72</td>\n      <td>121856.0</td>\n      <td>01/25/2015 12:00:00 AM</td>\n    </tr>\n    <tr>\n      <th>4</th>\n      <td>Cut-flowers</td>\n      <td>Ranunculus</td>\n      <td>104.00</td>\n      <td>34827.0</td>\n      <td>01/25/2015 12:00:00 AM</td>\n    </tr>\n  </tbody>\n</table>\n</div>"
     },
     "metadata": {},
     "execution_count": 4
    }
   ],
   "source": [
    "# Inserting data to utf8_chars table\n",
    "cur.execute(\"INSERT INTO utf8_chars VALUES (1,'\\x01')\")\n",
    "\n",
    "for code_point in range(2,129):\n",
    "    cur.execute(\"INSERT INTO utf8_chars VALUES (%s, %s)\",(code_point,chr(code_point)))\n",
    "\n",
    "# Inserting data into exports table\n",
    "export_data = pd.read_csv('data.csv', parse_dates=True).fillna(0)\n",
    "\n",
    "for index in range(len(export_data)):\n",
    "    cur.execute('INSERT INTO exports VALUES (%s, %s, %s, %s, %s);',\n",
    "                                             tuple(export_data.iloc[index])) \n",
    "\n",
    "export_data.head()"
   ]
  },
  {
   "cell_type": "markdown",
   "metadata": {},
   "source": [
    "## 3.3 Fetching Data from the Database"
   ]
  },
  {
   "cell_type": "code",
   "execution_count": 5,
   "metadata": {},
   "outputs": [
    {
     "output_type": "stream",
     "name": "stdout",
     "text": "--one: \n(1, '\\x01')\n--ten:\n(2, '\\x02')\n(3, '\\x03')\n(4, '\\x04')\n(5, '\\x05')\n(6, '\\x06')\n(7, '\\x07')\n(8, '\\x08')\n(9, '\\t')\n(10, '\\n')\n(11, '\\x0b')\n"
    }
   ],
   "source": [
    "cur.execute('SELECT * FROM utf8_chars;')\n",
    "\n",
    "# Assigning the first row to variable 'one'\n",
    "one = cur.fetchone()\n",
    "\n",
    "# Assigning the next 10 rows to variable 'ten'\n",
    "ten = cur.fetchmany(10)\n",
    "\n",
    "# Assigning all available rows to variable 'remaining'\n",
    "remaining = cur.fetchall() \n",
    "\n",
    "print('--one: ', one,'--ten:', *ten, sep='\\n')"
   ]
  },
  {
   "cell_type": "code",
   "execution_count": 6,
   "metadata": {},
   "outputs": [
    {
     "output_type": "execute_result",
     "data": {
      "text/plain": "(117, 128)"
     },
     "metadata": {},
     "execution_count": 6
    }
   ],
   "source": [
    "# Assigning all rows to variable 'everything'\n",
    "cur.execute('SELECT * FROM utf8_chars;')\n",
    "everything = cur.fetchall() \n",
    "\n",
    "len(remaining), len(everything)"
   ]
  },
  {
   "cell_type": "code",
   "execution_count": 7,
   "metadata": {},
   "outputs": [],
   "source": [
    "#Fetching column names\n",
    "cur.execute(\"SELECT column_name FROM information_schema.columns \\\n",
    "             WHERE table_name='exports';\")\n",
    "columns = cur.fetchall()"
   ]
  },
  {
   "cell_type": "code",
   "execution_count": 8,
   "metadata": {},
   "outputs": [
    {
     "output_type": "execute_result",
     "data": {
      "text/plain": "          Type            Commodity      Kgs            Value       Date\n0  Cut-flowers     Anthurium leaves  3769.74  Ksh1,707,653.00 2015-01-25\n1  Cut-flowers          Cut foliage  9040.37  Ksh4,476,063.00 2015-01-25\n2  Cut-flowers              Fillers     58.0     Ksh18,938.00 2015-01-25\n3  Cut-flowers  Leather leaves/fern   309.72    Ksh121,856.00 2015-01-25\n4  Cut-flowers           Ranunculus    104.0     Ksh34,827.00 2015-01-25",
      "text/html": "<div>\n<style scoped>\n    .dataframe tbody tr th:only-of-type {\n        vertical-align: middle;\n    }\n\n    .dataframe tbody tr th {\n        vertical-align: top;\n    }\n\n    .dataframe thead th {\n        text-align: right;\n    }\n</style>\n<table border=\"1\" class=\"dataframe\">\n  <thead>\n    <tr style=\"text-align: right;\">\n      <th></th>\n      <th>Type</th>\n      <th>Commodity</th>\n      <th>Kgs</th>\n      <th>Value</th>\n      <th>Date</th>\n    </tr>\n  </thead>\n  <tbody>\n    <tr>\n      <th>0</th>\n      <td>Cut-flowers</td>\n      <td>Anthurium leaves</td>\n      <td>3769.74</td>\n      <td>Ksh1,707,653.00</td>\n      <td>2015-01-25</td>\n    </tr>\n    <tr>\n      <th>1</th>\n      <td>Cut-flowers</td>\n      <td>Cut foliage</td>\n      <td>9040.37</td>\n      <td>Ksh4,476,063.00</td>\n      <td>2015-01-25</td>\n    </tr>\n    <tr>\n      <th>2</th>\n      <td>Cut-flowers</td>\n      <td>Fillers</td>\n      <td>58.0</td>\n      <td>Ksh18,938.00</td>\n      <td>2015-01-25</td>\n    </tr>\n    <tr>\n      <th>3</th>\n      <td>Cut-flowers</td>\n      <td>Leather leaves/fern</td>\n      <td>309.72</td>\n      <td>Ksh121,856.00</td>\n      <td>2015-01-25</td>\n    </tr>\n    <tr>\n      <th>4</th>\n      <td>Cut-flowers</td>\n      <td>Ranunculus</td>\n      <td>104.0</td>\n      <td>Ksh34,827.00</td>\n      <td>2015-01-25</td>\n    </tr>\n  </tbody>\n</table>\n</div>"
     },
     "metadata": {},
     "execution_count": 8
    }
   ],
   "source": [
    "# Retrieving data in the database as a dataframe\n",
    "columns = [i[0].title() for i in columns]\n",
    "\n",
    "cur.execute('SELECT * FROM exports;')\n",
    "export_data2 = pd.DataFrame(cur.fetchall(), columns=columns)\n",
    "export_data2.head()"
   ]
  },
  {
   "cell_type": "markdown",
   "metadata": {},
   "source": [
    "## 3.4 Miscellaneous SQL Queries"
   ]
  },
  {
   "cell_type": "code",
   "execution_count": 9,
   "metadata": {
    "scrolled": true
   },
   "outputs": [
    {
     "output_type": "stream",
     "name": "stdout",
     "text": "[(48,), (49,), (50,), (51,), (52,), (53,), (54,), (55,), (56,), (57,), (58,), (59,), (60,), (61,), (62,), (63,), (64,), (65,), (66,), (67,), (68,), (69,), (70,), (71,), (72,), (73,), (74,), (75,), (76,), (77,), (78,), (79,), (80,), (81,), (82,), (83,), (84,), (85,), (86,), (87,), (88,), (89,), (90,), (91,), (92,), (93,), (94,), (95,), (96,), (97,), (98,), (99,), (100,), (101,), (102,), (103,), (104,), (105,), (106,), (107,), (108,), (109,), (110,), (111,), (112,), (113,), (114,), (115,), (116,), (117,), (118,), (119,), (120,), (121,)]\n"
    }
   ],
   "source": [
    "# Deleting rows\n",
    "cur.execute('DELETE FROM utf8_chars WHERE (code_point < 48 OR code_point >= 122);')\n",
    "cur.execute(\"SELECT code_point FROM utf8_chars\")\n",
    "print(cur.fetchall())"
   ]
  },
  {
   "cell_type": "code",
   "execution_count": 10,
   "metadata": {},
   "outputs": [
    {
     "output_type": "execute_result",
     "data": {
      "text/plain": "           commodity      kgs                value     price_per_kg\n0  Geranium cuttings    609.0  Ksh1,291,615,579.00  Ksh2,120,879.44\n1             Asters      3.0        Ksh408,938.00    Ksh136,312.67\n2  Geranium cuttings   3045.0    Ksh265,013,924.00     Ksh87,032.49\n3              Phlox  1910.57    Ksh153,927,591.00     Ksh80,566.32\n4  Geranium cuttings  4206.74    Ksh313,812,245.00     Ksh74,597.49",
      "text/html": "<div>\n<style scoped>\n    .dataframe tbody tr th:only-of-type {\n        vertical-align: middle;\n    }\n\n    .dataframe tbody tr th {\n        vertical-align: top;\n    }\n\n    .dataframe thead th {\n        text-align: right;\n    }\n</style>\n<table border=\"1\" class=\"dataframe\">\n  <thead>\n    <tr style=\"text-align: right;\">\n      <th></th>\n      <th>commodity</th>\n      <th>kgs</th>\n      <th>value</th>\n      <th>price_per_kg</th>\n    </tr>\n  </thead>\n  <tbody>\n    <tr>\n      <th>0</th>\n      <td>Geranium cuttings</td>\n      <td>609.0</td>\n      <td>Ksh1,291,615,579.00</td>\n      <td>Ksh2,120,879.44</td>\n    </tr>\n    <tr>\n      <th>1</th>\n      <td>Asters</td>\n      <td>3.0</td>\n      <td>Ksh408,938.00</td>\n      <td>Ksh136,312.67</td>\n    </tr>\n    <tr>\n      <th>2</th>\n      <td>Geranium cuttings</td>\n      <td>3045.0</td>\n      <td>Ksh265,013,924.00</td>\n      <td>Ksh87,032.49</td>\n    </tr>\n    <tr>\n      <th>3</th>\n      <td>Phlox</td>\n      <td>1910.57</td>\n      <td>Ksh153,927,591.00</td>\n      <td>Ksh80,566.32</td>\n    </tr>\n    <tr>\n      <th>4</th>\n      <td>Geranium cuttings</td>\n      <td>4206.74</td>\n      <td>Ksh313,812,245.00</td>\n      <td>Ksh74,597.49</td>\n    </tr>\n  </tbody>\n</table>\n</div>"
     },
     "metadata": {},
     "execution_count": 10
    }
   ],
   "source": [
    "#Removing rows with zero export amount\n",
    "cur.execute('DELETE FROM exports where kgs<=0.0;')\n",
    "\n",
    "#evaluating 'price_per_kg'\n",
    "cur.execute(\"\"\"SELECT commodity,kgs,value,(value/kgs) AS price_per_kg\n",
    "               FROM exports \n",
    "               ORDER BY price_per_kg DESC;\"\"\")\n",
    "               \n",
    "pd.DataFrame(cur.fetchall(), columns=['commodity','kgs','value','price_per_kg']).head()"
   ]
  },
  {
   "cell_type": "code",
   "execution_count": 11,
   "metadata": {},
   "outputs": [
    {
     "output_type": "execute_result",
     "data": {
      "text/plain": "[('Fruits',), ('Cut-flowers',), ('Vegetables',)]"
     },
     "metadata": {},
     "execution_count": 11
    }
   ],
   "source": [
    "#Getting types of commodities\n",
    "cur.execute('SELECT DISTINCT type FROM exports;')\n",
    "cur.fetchall()"
   ]
  },
  {
   "cell_type": "code",
   "execution_count": 12,
   "metadata": {
    "scrolled": true
   },
   "outputs": [
    {
     "output_type": "execute_result",
     "data": {
      "text/plain": "[('Aloe vera',),\n ('Amaranthus leaves',),\n ('Arrow roots(nduma)',),\n ('Asparagus',),\n ('Aubergines',),\n ('Baby corn',),\n ('Basil',),\n ('Bean processed',),\n ('Beetroot',),\n ('Broccoli',)]"
     },
     "metadata": {},
     "execution_count": 12
    }
   ],
   "source": [
    "#Getting names of vegetables exported\n",
    "cur.execute(\"SELECT DISTINCT commodity FROM exports WHERE type='Vegetables';\")\n",
    "cur.fetchmany(10)"
   ]
  },
  {
   "cell_type": "code",
   "execution_count": 13,
   "metadata": {},
   "outputs": [
    {
     "output_type": "execute_result",
     "data": {
      "text/plain": "            commodity total_mass(kg) largest_shipment(kg)  average_mass  \\\n72              Roses   105164149.83          11049185.48  8763679.1525   \n118           Avocado    31225859.63           5302741.82  2602154.9692   \n98              Mango    14047648.26           4655128.34  1170637.3550   \n101  Mixed vegetables    28129937.97           3565356.17  2344161.4975   \n50         Fine beans    23090599.07           3003347.17  1924216.5892   \n..                ...            ...                  ...           ...   \n26   Dried carnations           6.96                 6.96        6.9600   \n78            Melissa            6.0                  6.0        6.0000   \n94             Celery            5.0                  5.0        5.0000   \n121           Gerbera           1.70                 1.23        0.8500   \n35       Callistaphus           1.16                 1.16        1.1600   \n\n              total_value  \n72   Ksh44,205,855,724.00  \n118   Ksh4,278,199,690.00  \n98    Ksh1,612,449,629.00  \n101   Ksh9,122,920,193.00  \n50    Ksh7,109,839,896.00  \n..                    ...  \n26            Ksh5,181.00  \n78            Ksh2,724.00  \n94               Ksh30.00  \n121             Ksh369.00  \n35              Ksh590.00  \n\n[148 rows x 5 columns]",
      "text/html": "<div>\n<style scoped>\n    .dataframe tbody tr th:only-of-type {\n        vertical-align: middle;\n    }\n\n    .dataframe tbody tr th {\n        vertical-align: top;\n    }\n\n    .dataframe thead th {\n        text-align: right;\n    }\n</style>\n<table border=\"1\" class=\"dataframe\">\n  <thead>\n    <tr style=\"text-align: right;\">\n      <th></th>\n      <th>commodity</th>\n      <th>total_mass(kg)</th>\n      <th>largest_shipment(kg)</th>\n      <th>average_mass</th>\n      <th>total_value</th>\n    </tr>\n  </thead>\n  <tbody>\n    <tr>\n      <th>72</th>\n      <td>Roses</td>\n      <td>105164149.83</td>\n      <td>11049185.48</td>\n      <td>8763679.1525</td>\n      <td>Ksh44,205,855,724.00</td>\n    </tr>\n    <tr>\n      <th>118</th>\n      <td>Avocado</td>\n      <td>31225859.63</td>\n      <td>5302741.82</td>\n      <td>2602154.9692</td>\n      <td>Ksh4,278,199,690.00</td>\n    </tr>\n    <tr>\n      <th>98</th>\n      <td>Mango</td>\n      <td>14047648.26</td>\n      <td>4655128.34</td>\n      <td>1170637.3550</td>\n      <td>Ksh1,612,449,629.00</td>\n    </tr>\n    <tr>\n      <th>101</th>\n      <td>Mixed vegetables</td>\n      <td>28129937.97</td>\n      <td>3565356.17</td>\n      <td>2344161.4975</td>\n      <td>Ksh9,122,920,193.00</td>\n    </tr>\n    <tr>\n      <th>50</th>\n      <td>Fine beans</td>\n      <td>23090599.07</td>\n      <td>3003347.17</td>\n      <td>1924216.5892</td>\n      <td>Ksh7,109,839,896.00</td>\n    </tr>\n    <tr>\n      <th>...</th>\n      <td>...</td>\n      <td>...</td>\n      <td>...</td>\n      <td>...</td>\n      <td>...</td>\n    </tr>\n    <tr>\n      <th>26</th>\n      <td>Dried carnations</td>\n      <td>6.96</td>\n      <td>6.96</td>\n      <td>6.9600</td>\n      <td>Ksh5,181.00</td>\n    </tr>\n    <tr>\n      <th>78</th>\n      <td>Melissa</td>\n      <td>6.0</td>\n      <td>6.0</td>\n      <td>6.0000</td>\n      <td>Ksh2,724.00</td>\n    </tr>\n    <tr>\n      <th>94</th>\n      <td>Celery</td>\n      <td>5.0</td>\n      <td>5.0</td>\n      <td>5.0000</td>\n      <td>Ksh30.00</td>\n    </tr>\n    <tr>\n      <th>121</th>\n      <td>Gerbera</td>\n      <td>1.70</td>\n      <td>1.23</td>\n      <td>0.8500</td>\n      <td>Ksh369.00</td>\n    </tr>\n    <tr>\n      <th>35</th>\n      <td>Callistaphus</td>\n      <td>1.16</td>\n      <td>1.16</td>\n      <td>1.1600</td>\n      <td>Ksh590.00</td>\n    </tr>\n  </tbody>\n</table>\n<p>148 rows × 5 columns</p>\n</div>"
     },
     "metadata": {},
     "execution_count": 13
    }
   ],
   "source": [
    "# Basic statistics\n",
    "cur.execute(\"\"\"SELECT commodity, sum(kgs), max(kgs), round(avg(kgs), 4), sum(value)\n",
    "               FROM exports GROUP BY commodity;\"\"\")\n",
    "pd.DataFrame(cur.fetchall(), columns=['commodity','total_mass(kg)','largest_shipment(kg)',\n",
    "                                      'average_mass','total_value']\n",
    "            ).sort_values(by='largest_shipment(kg)', ascending=False)"
   ]
  },
  {
   "cell_type": "markdown",
   "metadata": {},
   "source": [
    "# 4. Deleting Created Objects & Users"
   ]
  },
  {
   "cell_type": "code",
   "execution_count": 14,
   "metadata": {},
   "outputs": [],
   "source": [
    "#Deleting the tables\n",
    "cur.execute('DROP TABLE utf8_chars;')\n",
    "cur.execute('DROP TABLE exports;')"
   ]
  },
  {
   "cell_type": "code",
   "execution_count": 15,
   "metadata": {},
   "outputs": [],
   "source": [
    "#Removing everything owned by the user \"Dinosaur\"\n",
    "cur.execute('DROP OWNED BY \"Dinosaur\";')\n",
    "\n",
    "del export_data, export_data2, one, ten, remaining, everything"
   ]
  },
  {
   "cell_type": "code",
   "execution_count": 16,
   "metadata": {},
   "outputs": [],
   "source": [
    "#Closing the connection to database\n",
    "cur.close()\n",
    "conn.close()"
   ]
  },
  {
   "cell_type": "code",
   "execution_count": 17,
   "metadata": {},
   "outputs": [],
   "source": [
    "#Deleting the 'experiments' database\n",
    "!dropdb testing_psycopg"
   ]
  },
  {
   "cell_type": "code",
   "execution_count": 18,
   "metadata": {},
   "outputs": [],
   "source": [
    "#Deleting the user\n",
    "!dropuser 'Dinosaur'"
   ]
  }
 ],
 "metadata": {
  "kernelspec": {
   "display_name": "Python 3.6.9 64-bit ('venv': venv)",
   "language": "python",
   "name": "python36964bitvenvvenv522e4cfdc1b04dbab221c4e97b10d4b4"
  },
  "language_info": {
   "codemirror_mode": {
    "name": "ipython",
    "version": 3
   },
   "file_extension": ".py",
   "mimetype": "text/x-python",
   "name": "python",
   "nbconvert_exporter": "python",
   "pygments_lexer": "ipython3",
   "version": "3.6.9-final"
  }
 },
 "nbformat": 4,
 "nbformat_minor": 2
}