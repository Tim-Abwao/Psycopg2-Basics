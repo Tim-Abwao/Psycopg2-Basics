{
 "cells": [
  {
   "cell_type": "code",
   "execution_count": 1,
   "metadata": {},
   "outputs": [],
   "source": [
    "import pandas as pd\n",
    "import psycopg2 as ps\n",
    "from getpass import getpass"
   ]
  },
  {
   "cell_type": "markdown",
   "metadata": {},
   "source": [
    "# 1. Set up Database Credentials\n",
    "\n",
    "This is optional if you wish to use an already existing database and user.\n",
    "\n",
    "If you'd like to create a dummy user and database to work with just for this session, run the commands below in your terminal. Both of these, along with all other objects created will be removed at the end.\n",
    "\n",
    "```bash\n",
    " createuser dummy_user --createdb -P\n",
    " createdb testing_psycopg\n",
    "```"
   ]
  },
  {
   "cell_type": "markdown",
   "metadata": {},
   "source": [
    "# 2. Connecting to the Postgres Server"
   ]
  },
  {
   "cell_type": "code",
   "execution_count": 2,
   "metadata": {
    "scrolled": true
   },
   "outputs": [
    {
     "name": "stdout",
     "output_type": "stream",
     "text": [
      "········\n"
     ]
    }
   ],
   "source": [
    "# Ammend as necessary if using a different role/user\n",
    "conn = ps.connect(dbname='testing_psycopg', user='dummy_user', password=getpass(),\n",
    "                   host='localhost', port='5432')\n",
    "\n",
    "# Initialise cursor\n",
    "cur = conn.cursor()"
   ]
  },
  {
   "cell_type": "markdown",
   "metadata": {},
   "source": [
    "# 3. Basic Database Operations"
   ]
  },
  {
   "cell_type": "markdown",
   "metadata": {},
   "source": [
    "## 3.1 Creating tables"
   ]
  },
  {
   "cell_type": "code",
   "execution_count": 3,
   "metadata": {},
   "outputs": [],
   "source": [
    "# Creating a table of UTF-8 characters\n",
    "cur.execute(\"\"\" CREATE TABLE utf8_chars ( \n",
    "                    code_point   integer, \n",
    "                    character    text \n",
    "                    ); \"\"\")\n",
    "\n",
    "# Creating a table to hold sample export data\n",
    "cur.execute(\"\"\"CREATE TABLE exports (\n",
    "                    Type       text,\n",
    "                    Commodity  text,\n",
    "                    KGs        numeric,\n",
    "                    Value      money,\n",
    "                    Date       timestamp\n",
    "                ); \"\"\")\n",
    "\n",
    "conn.commit()"
   ]
  },
  {
   "cell_type": "markdown",
   "metadata": {},
   "source": [
    "## 3.2 Inserting data "
   ]
  },
  {
   "cell_type": "code",
   "execution_count": 4,
   "metadata": {
    "scrolled": true
   },
   "outputs": [
    {
     "data": {
      "text/html": [
       "<div>\n",
       "<style scoped>\n",
       "    .dataframe tbody tr th:only-of-type {\n",
       "        vertical-align: middle;\n",
       "    }\n",
       "\n",
       "    .dataframe tbody tr th {\n",
       "        vertical-align: top;\n",
       "    }\n",
       "\n",
       "    .dataframe thead th {\n",
       "        text-align: right;\n",
       "    }\n",
       "</style>\n",
       "<table border=\"1\" class=\"dataframe\">\n",
       "  <thead>\n",
       "    <tr style=\"text-align: right;\">\n",
       "      <th></th>\n",
       "      <th>Type</th>\n",
       "      <th>Commodity</th>\n",
       "      <th>KGs</th>\n",
       "      <th>Value_of_Goods_Exported</th>\n",
       "      <th>Date</th>\n",
       "    </tr>\n",
       "  </thead>\n",
       "  <tbody>\n",
       "    <tr>\n",
       "      <th>0</th>\n",
       "      <td>Cut-flowers</td>\n",
       "      <td>Anthurium leaves</td>\n",
       "      <td>3769.74</td>\n",
       "      <td>1707653.0</td>\n",
       "      <td>2015-01-25</td>\n",
       "    </tr>\n",
       "    <tr>\n",
       "      <th>1</th>\n",
       "      <td>Cut-flowers</td>\n",
       "      <td>Cut foliage</td>\n",
       "      <td>9040.37</td>\n",
       "      <td>4476063.0</td>\n",
       "      <td>2015-01-25</td>\n",
       "    </tr>\n",
       "    <tr>\n",
       "      <th>2</th>\n",
       "      <td>Cut-flowers</td>\n",
       "      <td>Fillers</td>\n",
       "      <td>58.00</td>\n",
       "      <td>18938.0</td>\n",
       "      <td>2015-01-25</td>\n",
       "    </tr>\n",
       "    <tr>\n",
       "      <th>3</th>\n",
       "      <td>Cut-flowers</td>\n",
       "      <td>Leather leaves/fern</td>\n",
       "      <td>309.72</td>\n",
       "      <td>121856.0</td>\n",
       "      <td>2015-01-25</td>\n",
       "    </tr>\n",
       "    <tr>\n",
       "      <th>4</th>\n",
       "      <td>Cut-flowers</td>\n",
       "      <td>Ranunculus</td>\n",
       "      <td>104.00</td>\n",
       "      <td>34827.0</td>\n",
       "      <td>2015-01-25</td>\n",
       "    </tr>\n",
       "  </tbody>\n",
       "</table>\n",
       "</div>"
      ],
      "text/plain": [
       "          Type            Commodity      KGs  Value_of_Goods_Exported  \\\n",
       "0  Cut-flowers     Anthurium leaves  3769.74                1707653.0   \n",
       "1  Cut-flowers          Cut foliage  9040.37                4476063.0   \n",
       "2  Cut-flowers              Fillers    58.00                  18938.0   \n",
       "3  Cut-flowers  Leather leaves/fern   309.72                 121856.0   \n",
       "4  Cut-flowers           Ranunculus   104.00                  34827.0   \n",
       "\n",
       "        Date  \n",
       "0 2015-01-25  \n",
       "1 2015-01-25  \n",
       "2 2015-01-25  \n",
       "3 2015-01-25  \n",
       "4 2015-01-25  "
      ]
     },
     "execution_count": 4,
     "metadata": {},
     "output_type": "execute_result"
    }
   ],
   "source": [
    "# Inserting data to utf8_chars table\n",
    "cur.execute(\"INSERT INTO utf8_chars VALUES (1, '\\x01')\")\n",
    "\n",
    "for code_point in range(2,129):\n",
    "    cur.execute(\"INSERT INTO utf8_chars VALUES (%s, %s)\",\n",
    "                (code_point, chr(code_point)))\n",
    "\n",
    "# Inserting data into exports table\n",
    "export_data = pd.read_csv('data.csv', parse_dates=['Date']).fillna(0)\n",
    "\n",
    "for index in range(len(export_data)):\n",
    "    cur.execute('INSERT INTO exports VALUES (%s, %s, %s, %s, %s);',\n",
    "                 tuple(export_data.iloc[index])) \n",
    "\n",
    "conn.commit()\n",
    "export_data.head()"
   ]
  },
  {
   "cell_type": "markdown",
   "metadata": {},
   "source": [
    "## 3.3 Fetching data"
   ]
  },
  {
   "cell_type": "markdown",
   "metadata": {},
   "source": [
    "### 3.3.1 Select All"
   ]
  },
  {
   "cell_type": "code",
   "execution_count": 5,
   "metadata": {},
   "outputs": [
    {
     "name": "stdout",
     "output_type": "stream",
     "text": [
      "one: (1, '\\x01')\n",
      "ten: [(2, '\\x02'), (3, '\\x03'), (4, '\\x04'), (5, '\\x05'), (6, '\\x06'), (7, '\\x07'), (8, '\\x08'), (9, '\\t'), (10, '\\n'), (11, '\\x0b')]\n"
     ]
    },
    {
     "data": {
      "text/plain": [
       "117"
      ]
     },
     "execution_count": 5,
     "metadata": {},
     "output_type": "execute_result"
    }
   ],
   "source": [
    "cur.execute('SELECT * FROM utf8_chars;')\n",
    "\n",
    "one = cur.fetchone()\n",
    "print(f'one: {one}')\n",
    "\n",
    "next_ten = cur.fetchmany(10)\n",
    "print(f'ten: {next_ten}')\n",
    "\n",
    "all_remaining = cur.fetchall()\n",
    "len(all_remaining)"
   ]
  },
  {
   "cell_type": "code",
   "execution_count": 6,
   "metadata": {},
   "outputs": [
    {
     "data": {
      "text/plain": [
       "128"
      ]
     },
     "execution_count": 6,
     "metadata": {},
     "output_type": "execute_result"
    }
   ],
   "source": [
    "cur.execute('SELECT * FROM utf8_chars;')\n",
    "everything = cur.fetchall() \n",
    "\n",
    "len(everything)"
   ]
  },
  {
   "cell_type": "markdown",
   "metadata": {},
   "source": [
    "### 3.3.2 Specifying columns"
   ]
  },
  {
   "cell_type": "code",
   "execution_count": 7,
   "metadata": {},
   "outputs": [
    {
     "data": {
      "text/plain": [
       "[('kgs',), ('value',), ('date',), ('type',), ('commodity',)]"
      ]
     },
     "execution_count": 7,
     "metadata": {},
     "output_type": "execute_result"
    }
   ],
   "source": [
    "# Fetching column names\n",
    "cur.execute(\"SELECT column_name FROM information_schema.columns \\\n",
    "             WHERE table_name='exports';\")\n",
    "columns = cur.fetchall()\n",
    "columns"
   ]
  },
  {
   "cell_type": "code",
   "execution_count": 8,
   "metadata": {},
   "outputs": [
    {
     "data": {
      "text/html": [
       "<div>\n",
       "<style scoped>\n",
       "    .dataframe tbody tr th:only-of-type {\n",
       "        vertical-align: middle;\n",
       "    }\n",
       "\n",
       "    .dataframe tbody tr th {\n",
       "        vertical-align: top;\n",
       "    }\n",
       "\n",
       "    .dataframe thead th {\n",
       "        text-align: right;\n",
       "    }\n",
       "</style>\n",
       "<table border=\"1\" class=\"dataframe\">\n",
       "  <thead>\n",
       "    <tr style=\"text-align: right;\">\n",
       "      <th></th>\n",
       "      <th>Type</th>\n",
       "      <th>Value</th>\n",
       "    </tr>\n",
       "  </thead>\n",
       "  <tbody>\n",
       "    <tr>\n",
       "      <th>0</th>\n",
       "      <td>Cut-flowers</td>\n",
       "      <td>Ksh1,707,653.00</td>\n",
       "    </tr>\n",
       "    <tr>\n",
       "      <th>1</th>\n",
       "      <td>Cut-flowers</td>\n",
       "      <td>Ksh4,476,063.00</td>\n",
       "    </tr>\n",
       "    <tr>\n",
       "      <th>2</th>\n",
       "      <td>Cut-flowers</td>\n",
       "      <td>Ksh18,938.00</td>\n",
       "    </tr>\n",
       "    <tr>\n",
       "      <th>3</th>\n",
       "      <td>Cut-flowers</td>\n",
       "      <td>Ksh121,856.00</td>\n",
       "    </tr>\n",
       "    <tr>\n",
       "      <th>4</th>\n",
       "      <td>Cut-flowers</td>\n",
       "      <td>Ksh34,827.00</td>\n",
       "    </tr>\n",
       "  </tbody>\n",
       "</table>\n",
       "</div>"
      ],
      "text/plain": [
       "          Type            Value\n",
       "0  Cut-flowers  Ksh1,707,653.00\n",
       "1  Cut-flowers  Ksh4,476,063.00\n",
       "2  Cut-flowers     Ksh18,938.00\n",
       "3  Cut-flowers    Ksh121,856.00\n",
       "4  Cut-flowers     Ksh34,827.00"
      ]
     },
     "execution_count": 8,
     "metadata": {},
     "output_type": "execute_result"
    }
   ],
   "source": [
    "# Retrieving data in the database as a dataframe\n",
    "columns = [i[0].title() for i in columns]\n",
    "\n",
    "cur.execute('SELECT type, value FROM exports;')\n",
    "export_data2 = pd.DataFrame(cur.fetchall(), columns=['Type', 'Value'])\n",
    "export_data2.head()"
   ]
  },
  {
   "cell_type": "markdown",
   "metadata": {},
   "source": [
    "## 3.4 Deleting rows"
   ]
  },
  {
   "cell_type": "code",
   "execution_count": 9,
   "metadata": {
    "scrolled": true
   },
   "outputs": [
    {
     "data": {
      "text/plain": [
       "[(48,), (49,), (50,), (51,), (52,)]"
      ]
     },
     "execution_count": 9,
     "metadata": {},
     "output_type": "execute_result"
    }
   ],
   "source": [
    "# Deleting rows\n",
    "cur.execute('DELETE FROM utf8_chars WHERE (code_point < 48 OR code_point >= 122);')\n",
    "cur.execute(\"SELECT code_point FROM utf8_chars LIMIT 5;\")\n",
    "cur.fetchall()"
   ]
  },
  {
   "cell_type": "code",
   "execution_count": 10,
   "metadata": {},
   "outputs": [
    {
     "data": {
      "text/plain": [
       "[(Decimal('3769.74'),),\n",
       " (Decimal('9040.37'),),\n",
       " (Decimal('58.0'),),\n",
       " (Decimal('309.72'),),\n",
       " (Decimal('104.0'),)]"
      ]
     },
     "execution_count": 10,
     "metadata": {},
     "output_type": "execute_result"
    }
   ],
   "source": [
    "# Removing rows with zero export amount\n",
    "cur.execute('DELETE FROM exports where kgs<=0.0;')\n",
    "cur.execute('SELECT kgs FROM exports LIMIT 5;')\n",
    "cur.fetchall()"
   ]
  },
  {
   "cell_type": "code",
   "execution_count": 11,
   "metadata": {},
   "outputs": [
    {
     "data": {
      "text/plain": [
       "['Kgs', 'Value', 'Date', 'Type', 'Commodity']"
      ]
     },
     "execution_count": 11,
     "metadata": {},
     "output_type": "execute_result"
    }
   ],
   "source": [
    "columns"
   ]
  },
  {
   "cell_type": "markdown",
   "metadata": {},
   "source": [
    "## 3.5 Basic operations and aggregation"
   ]
  },
  {
   "cell_type": "code",
   "execution_count": 12,
   "metadata": {
    "scrolled": true
   },
   "outputs": [
    {
     "data": {
      "text/html": [
       "<div>\n",
       "<style scoped>\n",
       "    .dataframe tbody tr th:only-of-type {\n",
       "        vertical-align: middle;\n",
       "    }\n",
       "\n",
       "    .dataframe tbody tr th {\n",
       "        vertical-align: top;\n",
       "    }\n",
       "\n",
       "    .dataframe thead th {\n",
       "        text-align: right;\n",
       "    }\n",
       "</style>\n",
       "<table border=\"1\" class=\"dataframe\">\n",
       "  <thead>\n",
       "    <tr style=\"text-align: right;\">\n",
       "      <th></th>\n",
       "      <th>commodity</th>\n",
       "      <th>kgs</th>\n",
       "      <th>value</th>\n",
       "      <th>price_per_kg</th>\n",
       "    </tr>\n",
       "  </thead>\n",
       "  <tbody>\n",
       "    <tr>\n",
       "      <th>0</th>\n",
       "      <td>Geranium cuttings</td>\n",
       "      <td>609.0</td>\n",
       "      <td>Ksh1,291,615,579.00</td>\n",
       "      <td>Ksh2,120,879.44</td>\n",
       "    </tr>\n",
       "    <tr>\n",
       "      <th>1</th>\n",
       "      <td>Asters</td>\n",
       "      <td>3.0</td>\n",
       "      <td>Ksh408,938.00</td>\n",
       "      <td>Ksh136,312.67</td>\n",
       "    </tr>\n",
       "    <tr>\n",
       "      <th>2</th>\n",
       "      <td>Geranium cuttings</td>\n",
       "      <td>3045.0</td>\n",
       "      <td>Ksh265,013,924.00</td>\n",
       "      <td>Ksh87,032.49</td>\n",
       "    </tr>\n",
       "    <tr>\n",
       "      <th>3</th>\n",
       "      <td>Phlox</td>\n",
       "      <td>1910.57</td>\n",
       "      <td>Ksh153,927,591.00</td>\n",
       "      <td>Ksh80,566.32</td>\n",
       "    </tr>\n",
       "    <tr>\n",
       "      <th>4</th>\n",
       "      <td>Geranium cuttings</td>\n",
       "      <td>4206.74</td>\n",
       "      <td>Ksh313,812,245.00</td>\n",
       "      <td>Ksh74,597.49</td>\n",
       "    </tr>\n",
       "  </tbody>\n",
       "</table>\n",
       "</div>"
      ],
      "text/plain": [
       "           commodity      kgs                value     price_per_kg\n",
       "0  Geranium cuttings    609.0  Ksh1,291,615,579.00  Ksh2,120,879.44\n",
       "1             Asters      3.0        Ksh408,938.00    Ksh136,312.67\n",
       "2  Geranium cuttings   3045.0    Ksh265,013,924.00     Ksh87,032.49\n",
       "3              Phlox  1910.57    Ksh153,927,591.00     Ksh80,566.32\n",
       "4  Geranium cuttings  4206.74    Ksh313,812,245.00     Ksh74,597.49"
      ]
     },
     "execution_count": 12,
     "metadata": {},
     "output_type": "execute_result"
    }
   ],
   "source": [
    "# evaluating 'price_per_kg'\n",
    "cur.execute(\"\"\"SELECT commodity,kgs,value,(value/kgs) AS price_per_kg\n",
    "               FROM exports \n",
    "               ORDER BY price_per_kg DESC;\"\"\")\n",
    "               \n",
    "pd.DataFrame(cur.fetchall(),\n",
    "             columns=['commodity', 'kgs', 'value', 'price_per_kg']).head()"
   ]
  },
  {
   "cell_type": "code",
   "execution_count": 13,
   "metadata": {
    "scrolled": true
   },
   "outputs": [
    {
     "data": {
      "text/plain": [
       "[('Ksh5,715,510,707.00', 'Ksh0.00', Decimal('11049185.48'), Decimal('0.47'))]"
      ]
     },
     "execution_count": 13,
     "metadata": {},
     "output_type": "execute_result"
    }
   ],
   "source": [
    "cur.execute('''SELECT max(value), min(value), max(kgs), min(kgs)\n",
    "               FROM exports;''')\n",
    "cur.fetchall()"
   ]
  },
  {
   "cell_type": "code",
   "execution_count": 14,
   "metadata": {},
   "outputs": [
    {
     "data": {
      "text/plain": [
       "[('Fruits',), ('Cut-flowers',), ('Vegetables',)]"
      ]
     },
     "execution_count": 14,
     "metadata": {},
     "output_type": "execute_result"
    }
   ],
   "source": [
    "# Getting types of commodities\n",
    "cur.execute('SELECT DISTINCT type FROM exports;')\n",
    "cur.fetchall()"
   ]
  },
  {
   "cell_type": "code",
   "execution_count": 15,
   "metadata": {
    "scrolled": true
   },
   "outputs": [
    {
     "data": {
      "text/plain": [
       "[('Aloe vera',),\n",
       " ('Amaranthus leaves',),\n",
       " ('Arrow roots(nduma)',),\n",
       " ('Asparagus',),\n",
       " ('Aubergines',),\n",
       " ('Baby corn',),\n",
       " ('Basil',),\n",
       " ('Bean processed',),\n",
       " ('Beetroot',),\n",
       " ('Broccoli',)]"
      ]
     },
     "execution_count": 15,
     "metadata": {},
     "output_type": "execute_result"
    }
   ],
   "source": [
    "cur.execute(\"SELECT DISTINCT commodity FROM exports WHERE type='Vegetables';\")\n",
    "cur.fetchmany(10)"
   ]
  },
  {
   "cell_type": "code",
   "execution_count": 16,
   "metadata": {},
   "outputs": [
    {
     "data": {
      "text/html": [
       "<div>\n",
       "<style scoped>\n",
       "    .dataframe tbody tr th:only-of-type {\n",
       "        vertical-align: middle;\n",
       "    }\n",
       "\n",
       "    .dataframe tbody tr th {\n",
       "        vertical-align: top;\n",
       "    }\n",
       "\n",
       "    .dataframe thead th {\n",
       "        text-align: right;\n",
       "    }\n",
       "</style>\n",
       "<table border=\"1\" class=\"dataframe\">\n",
       "  <thead>\n",
       "    <tr style=\"text-align: right;\">\n",
       "      <th></th>\n",
       "      <th>commodity</th>\n",
       "      <th>total_mass(kg)</th>\n",
       "      <th>largest_shipment(kg)</th>\n",
       "      <th>average_mass</th>\n",
       "      <th>total_value</th>\n",
       "    </tr>\n",
       "  </thead>\n",
       "  <tbody>\n",
       "    <tr>\n",
       "      <th>0</th>\n",
       "      <td>Roses</td>\n",
       "      <td>105164149.83</td>\n",
       "      <td>11049185.48</td>\n",
       "      <td>8763679.1525</td>\n",
       "      <td>Ksh44,205,855,724.00</td>\n",
       "    </tr>\n",
       "    <tr>\n",
       "      <th>1</th>\n",
       "      <td>Mixed vegetables</td>\n",
       "      <td>28129937.97</td>\n",
       "      <td>3565356.17</td>\n",
       "      <td>2344161.4975</td>\n",
       "      <td>Ksh9,122,920,193.00</td>\n",
       "    </tr>\n",
       "    <tr>\n",
       "      <th>2</th>\n",
       "      <td>Cuttings</td>\n",
       "      <td>2609221.55</td>\n",
       "      <td>1176784.0</td>\n",
       "      <td>217435.1292</td>\n",
       "      <td>Ksh8,710,295,551.00</td>\n",
       "    </tr>\n",
       "    <tr>\n",
       "      <th>3</th>\n",
       "      <td>Fine beans</td>\n",
       "      <td>23090599.07</td>\n",
       "      <td>3003347.17</td>\n",
       "      <td>1924216.5892</td>\n",
       "      <td>Ksh7,109,839,896.00</td>\n",
       "    </tr>\n",
       "    <tr>\n",
       "      <th>4</th>\n",
       "      <td>Avocado</td>\n",
       "      <td>31225859.63</td>\n",
       "      <td>5302741.82</td>\n",
       "      <td>2602154.9692</td>\n",
       "      <td>Ksh4,278,199,690.00</td>\n",
       "    </tr>\n",
       "    <tr>\n",
       "      <th>...</th>\n",
       "      <td>...</td>\n",
       "      <td>...</td>\n",
       "      <td>...</td>\n",
       "      <td>...</td>\n",
       "      <td>...</td>\n",
       "    </tr>\n",
       "    <tr>\n",
       "      <th>143</th>\n",
       "      <td>Sweet potatoes</td>\n",
       "      <td>32.0</td>\n",
       "      <td>32.0</td>\n",
       "      <td>32.0000</td>\n",
       "      <td>Ksh464.00</td>\n",
       "    </tr>\n",
       "    <tr>\n",
       "      <th>144</th>\n",
       "      <td>Gerbera</td>\n",
       "      <td>1.70</td>\n",
       "      <td>1.23</td>\n",
       "      <td>0.8500</td>\n",
       "      <td>Ksh369.00</td>\n",
       "    </tr>\n",
       "    <tr>\n",
       "      <th>145</th>\n",
       "      <td>Cucumber</td>\n",
       "      <td>10.0</td>\n",
       "      <td>10.0</td>\n",
       "      <td>10.0000</td>\n",
       "      <td>Ksh50.00</td>\n",
       "    </tr>\n",
       "    <tr>\n",
       "      <th>146</th>\n",
       "      <td>Celery</td>\n",
       "      <td>5.0</td>\n",
       "      <td>5.0</td>\n",
       "      <td>5.0000</td>\n",
       "      <td>Ksh30.00</td>\n",
       "    </tr>\n",
       "    <tr>\n",
       "      <th>147</th>\n",
       "      <td>Carthamus</td>\n",
       "      <td>184.33</td>\n",
       "      <td>175.29</td>\n",
       "      <td>92.1650</td>\n",
       "      <td>Ksh0.00</td>\n",
       "    </tr>\n",
       "  </tbody>\n",
       "</table>\n",
       "<p>148 rows × 5 columns</p>\n",
       "</div>"
      ],
      "text/plain": [
       "            commodity total_mass(kg) largest_shipment(kg)  average_mass  \\\n",
       "0               Roses   105164149.83          11049185.48  8763679.1525   \n",
       "1    Mixed vegetables    28129937.97           3565356.17  2344161.4975   \n",
       "2            Cuttings     2609221.55            1176784.0   217435.1292   \n",
       "3          Fine beans    23090599.07           3003347.17  1924216.5892   \n",
       "4             Avocado    31225859.63           5302741.82  2602154.9692   \n",
       "..                ...            ...                  ...           ...   \n",
       "143    Sweet potatoes           32.0                 32.0       32.0000   \n",
       "144           Gerbera           1.70                 1.23        0.8500   \n",
       "145          Cucumber           10.0                 10.0       10.0000   \n",
       "146            Celery            5.0                  5.0        5.0000   \n",
       "147         Carthamus         184.33               175.29       92.1650   \n",
       "\n",
       "              total_value  \n",
       "0    Ksh44,205,855,724.00  \n",
       "1     Ksh9,122,920,193.00  \n",
       "2     Ksh8,710,295,551.00  \n",
       "3     Ksh7,109,839,896.00  \n",
       "4     Ksh4,278,199,690.00  \n",
       "..                    ...  \n",
       "143             Ksh464.00  \n",
       "144             Ksh369.00  \n",
       "145              Ksh50.00  \n",
       "146              Ksh30.00  \n",
       "147               Ksh0.00  \n",
       "\n",
       "[148 rows x 5 columns]"
      ]
     },
     "execution_count": 16,
     "metadata": {},
     "output_type": "execute_result"
    }
   ],
   "source": [
    "# Basic statistics\n",
    "cur.execute(\"\"\"SELECT commodity, sum(kgs), max(kgs), round(avg(kgs), 4),\n",
    "               sum(value) as product_total_value\n",
    "               FROM exports GROUP BY commodity ORDER BY product_total_value DESC;\"\"\")\n",
    "pd.DataFrame(cur.fetchall(),\n",
    "             columns=['commodity', 'total_mass(kg)', 'largest_shipment(kg)',\n",
    "                      'average_mass', 'total_value'])"
   ]
  },
  {
   "cell_type": "markdown",
   "metadata": {},
   "source": [
    "# 4. Deleting Objects & Clean Up"
   ]
  },
  {
   "cell_type": "code",
   "execution_count": 17,
   "metadata": {},
   "outputs": [],
   "source": [
    "# Deleting the created tables\n",
    "cur.execute('DROP TABLE utf8_chars;')\n",
    "cur.execute('DROP TABLE exports;')"
   ]
  },
  {
   "cell_type": "code",
   "execution_count": 18,
   "metadata": {},
   "outputs": [],
   "source": [
    "# Removing everything owned by our 'dummy user' \n",
    "cur.execute('DROP OWNED BY dummy_user;')"
   ]
  },
  {
   "cell_type": "code",
   "execution_count": 19,
   "metadata": {},
   "outputs": [],
   "source": [
    "# Closing the connection to database\n",
    "cur.close()\n",
    "conn.close()"
   ]
  },
  {
   "cell_type": "code",
   "execution_count": 20,
   "metadata": {},
   "outputs": [],
   "source": [
    "%%bash\n",
    "# Deleting the 'testing_psycopg' database\n",
    "dropdb testing_psycopg"
   ]
  },
  {
   "cell_type": "code",
   "execution_count": 21,
   "metadata": {},
   "outputs": [],
   "source": [
    "%%bash\n",
    "# Deleting the 'dummy user'\n",
    "dropuser dummy_user"
   ]
  }
 ],
 "metadata": {
  "kernelspec": {
   "display_name": "Python 3",
   "language": "python",
   "name": "python3"
  },
  "language_info": {
   "codemirror_mode": {
    "name": "ipython",
    "version": 3
   },
   "file_extension": ".py",
   "mimetype": "text/x-python",
   "name": "python",
   "nbconvert_exporter": "python",
   "pygments_lexer": "ipython3",
   "version": "3.8.5"
  }
 },
 "nbformat": 4,
 "nbformat_minor": 2
}
